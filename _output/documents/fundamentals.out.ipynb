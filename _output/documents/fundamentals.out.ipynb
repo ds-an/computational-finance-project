{
 "cells": [
  {
   "cell_type": "markdown",
   "metadata": {},
   "source": [
    "#"
   ],
   "id": "dea9a44a-fbc8-42e4-8140-f5b621bcd7c9"
  },
  {
   "cell_type": "raw",
   "metadata": {
    "raw_mimetype": "text/html"
   },
   "source": [
    "<!--\n",
    "Common size analysis for fundamental analysis.\n",
    "Life cycle stage.\n",
    "ROI for stock over a period of time.\n",
    "Analyst's views and rating.\n",
    "client.shwab.com\n",
    "EBITDA\n",
    "P/B ratio\n",
    "EV = Mcap + Debt\n",
    "-->"
   ],
   "id": "11837ff8-b8a0-44a4-86eb-010c6fa73a0d"
  },
  {
   "cell_type": "markdown",
   "metadata": {},
   "source": [
    "> **Note**\n",
    ">\n",
    "> In this section we will take a look at quantitative fundamental analysis tools provided by the “tidyquant” R language package \\[@danchoTidyquantTidyQuantitative2025\\] and use them to get key financial ratios of fundamental analysis for the Clorox company. This section is based on the following wonderful tutorial: @PerformanceAnalysisTidyquant\n",
    "\n",
    "### **Basic Fundamental Analysis of the Clorox Company**\n",
    "\n",
    "First let’s retrieve 5-year period returns from the prices adjusted for stock splits, both for Clorox and S&P500 as the baseline. Next, we combine both datasets (Clorox and S&P500 returns) using “left-join” on the “date” field. Using this dataset, we can retrieve all kind of fundamental metrics, such as **Alpha** (0.0008), **Beta** (0.414)."
   ],
   "id": "dcc88cba-c64f-440d-962f-57bc9d20bb84"
  },
  {
   "cell_type": "code",
   "execution_count": null,
   "metadata": {},
   "outputs": [
    {
     "output_type": "stream",
     "name": "stderr",
     "text": [
      "── Attaching core tidyverse packages ──────────────────────── tidyverse 2.0.0 ──\n",
      "✔ dplyr     1.1.4     ✔ readr     2.1.5\n",
      "✔ forcats   1.0.0     ✔ stringr   1.5.1\n",
      "✔ ggplot2   3.5.1     ✔ tibble    3.2.1\n",
      "✔ lubridate 1.9.4     ✔ tidyr     1.3.1\n",
      "✔ purrr     1.0.4     \n",
      "── Conflicts ────────────────────────────────────────── tidyverse_conflicts() ──\n",
      "✖ purrr::%||%()   masks base::%||%()\n",
      "✖ dplyr::filter() masks stats::filter()\n",
      "✖ dplyr::lag()    masks stats::lag()\n",
      "ℹ Use the conflicted package (<http://conflicted.r-lib.org/>) to force all conflicts to become errors"
     ]
    },
    {
     "output_type": "stream",
     "name": "stderr",
     "text": [
      "Registered S3 method overwritten by 'quantmod':\n",
      "  method            from\n",
      "  as.zoo.data.frame zoo \n",
      "── Attaching core tidyquant packages ─────────────────────── tidyquant 1.0.10 ──\n",
      "✔ PerformanceAnalytics 2.0.8      ✔ TTR                  0.24.4\n",
      "✔ quantmod             0.4.26     ✔ xts                  0.14.1── Conflicts ────────────────────────────────────────── tidyquant_conflicts() ──\n",
      "✖ purrr::%||%()                  masks base::%||%()\n",
      "✖ zoo::as.Date()                 masks base::as.Date()\n",
      "✖ zoo::as.Date.numeric()         masks base::as.Date.numeric()\n",
      "✖ dplyr::filter()                masks stats::filter()\n",
      "✖ xts::first()                   masks dplyr::first()\n",
      "✖ dplyr::lag()                   masks stats::lag()\n",
      "✖ xts::last()                    masks dplyr::last()\n",
      "✖ PerformanceAnalytics::legend() masks graphics::legend()\n",
      "✖ quantmod::summary()            masks base::summary()\n",
      "ℹ Use the conflicted package (<http://conflicted.r-lib.org/>) to force all conflicts to become errors"
     ]
    },
    {
     "output_type": "stream",
     "name": "stderr",
     "text": [
      "Registered S3 method overwritten by 'robustbase':\n",
      "  method          from     \n",
      "  hatvalues.lmrob RobStatTM"
     ]
    },
    {
     "output_type": "stream",
     "name": "stdout",
     "text": [
      "# A tibble: 1 × 3\n",
      "# Groups:   symbol [1]\n",
      "  symbol  Alpha  Beta\n",
      "  <chr>   <dbl> <dbl>\n",
      "1 CLX    0.0008 0.414"
     ]
    }
   ],
   "source": [
    "library(tidyverse)\n"
   ],
   "id": "76b6acb6-8918-4c1d-9974-7889cf534b49"
  },
  {
   "cell_type": "markdown",
   "metadata": {},
   "source": [
    "We can also get the **Annualized Sharpe Ratio and Returns**, **Types of Mean Return (Geometric, Arithmetic, etc.)**, **Kurtosis**, as well as **Maximum and Median Return** by following the similar steps (no need for the baseline this time)."
   ],
   "id": "82ca5ba1-ebc9-43b0-b59a-37428d09cded"
  },
  {
   "cell_type": "code",
   "execution_count": null,
   "metadata": {},
   "outputs": [
    {
     "output_type": "stream",
     "name": "stdout",
     "text": [
      "# A tibble: 1 × 4\n",
      "# Groups:   symbol [1]\n",
      "  symbol AnnualizedReturn `AnnualizedSharpe(Rf=0%)` AnnualizedStdDev\n",
      "  <chr>             <dbl>                     <dbl>            <dbl>\n",
      "1 CLX              0.0381                     0.153            0.249"
     ]
    },
    {
     "output_type": "stream",
     "name": "stdout",
     "text": [
      "# A tibble: 1 × 17\n",
      "# Groups:   symbol [1]\n",
      "  symbol ArithmeticMean GeometricMean Kurtosis `LCLMean(0.95)` Maximum Median\n",
      "  <chr>           <dbl>         <dbl>    <dbl>           <dbl>   <dbl>  <dbl>\n",
      "1 CLX            0.0056        0.0031     1.20         -0.0128   0.218 0.0054\n",
      "# ℹ 10 more variables: Minimum <dbl>, NAs <dbl>, Observations <dbl>,\n",
      "#   Quartile1 <dbl>, Quartile3 <dbl>, SEMean <dbl>, Skewness <dbl>,\n",
      "#   Stdev <dbl>, `UCLMean(0.95)` <dbl>, Variance <dbl>"
     ]
    }
   ],
   "source": [
    "library(tidyverse)\n",
    "library(tidyquant)\n",
    "\n",
    "Ra <- \"CLX\" |>\n",
    "    tq_get(get  = \"stock.prices\",\n",
    "           from = \"2020-01-01\",\n",
    "           to   = \"2025-02-01\") |>\n",
    "    group_by(symbol) |>\n",
    "    tq_transmute(select     = adjusted, \n",
    "                 mutate_fun = periodReturn, \n",
    "                 period     = \"monthly\", \n",
    "                 col_rename = \"Ra\")\n",
    "\n",
    "Ra |>\n",
    "  tq_performance(Ra = Ra, Rb = NULL, performance_fun = table.AnnualizedReturns) |>\n",
    "  print()\n"
   ],
   "id": "efc2e82a-0ea1-4f7a-bbce-5da8e3b7395f"
  },
  {
   "cell_type": "markdown",
   "metadata": {},
   "source": [
    "### **Conclusion**\n",
    "\n",
    "We can use the “tidyquant” R language package to perform fundamental analysis of the company and obtain all of the key financial ratios for such analysis. The analysis shows a company in recovery with strong fundamentals."
   ],
   "id": "bb13237c-2d44-40f1-8b43-244d0218d642"
  }
 ],
 "nbformat": 4,
 "nbformat_minor": 5,
 "metadata": {}
}
