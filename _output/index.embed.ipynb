{
 "cells": [
  {
   "cell_type": "markdown",
   "metadata": {},
   "source": [
    "# Research Report on the Clorox Company\n",
    "\n",
    "Andrey Malyukov (Sami Shamoon College of Engineering)  \n",
    "Roza Bass (Sami Shamoon College of Engineering)\n",
    "\n",
    "In September 2021, a significant jump in seismic activity on the island of La Palma (Canary Islands, Spain) signaled the start of a volcanic crisis that still continues at the time of writing. Earthquake data is continually collected and published by the Instituto Geográphico Nacional (IGN). …\n",
    "\n",
    "## Section\n",
    "\n",
    "This is a simple placeholder for the manuscript’s main document \\[@knuth84\\]."
   ],
   "id": "023f0c02-d931-4a16-ab78-b79d2505e97e"
  },
  {
   "cell_type": "code",
   "execution_count": null,
   "metadata": {},
   "outputs": [
    {
     "output_type": "stream",
     "name": "stdout",
     "text": [
      "  [1]  0.83801212 -0.60741723  0.04885842 -0.31888166 -0.96757573  0.31246549\n",
      "  [7]  1.19136826  0.09444405  0.58093398  0.48395718  0.77837289 -0.99918736\n",
      " [13]  0.08926455  0.30660905  1.96829761 -0.96830006  0.19683071 -0.61689331\n",
      " [19]  0.97087026 -0.01562528  0.73380904  1.10095914  1.53667412 -0.96748974\n",
      " [25] -0.29090018 -2.41120805  1.14204101  0.78350742  0.24450455  0.46525517\n",
      " [31] -0.65621671  0.59830597 -1.53843729 -0.80807498 -0.40945274  2.38833929\n",
      " [37] -1.20467759 -0.21086394  1.82539879 -0.24880851  0.16968000  0.57672724\n",
      " [43]  0.74755407 -0.85870067 -1.22443652  1.12021543  2.37723321  1.65409017\n",
      " [49]  0.01877782  0.86122730  0.11921393  0.72039071  0.84511608 -1.12345149\n",
      " [55]  1.57710184  0.38995002 -2.27349629 -0.12153185 -0.48973188  1.49461215\n",
      " [61] -0.37314636 -0.60202473 -1.05557046 -0.23747997  0.57190574  1.39445493\n",
      " [67]  0.35829601 -0.35558732 -1.10887487 -0.11093407  0.20804872 -0.60815861\n",
      " [73]  1.09011240 -0.91543536  0.81244547  0.94106513 -1.24506494  0.16377635\n",
      " [79] -0.45181129 -1.35679628  1.04759484 -0.89838428 -1.01838172 -1.05335708\n",
      " [85] -1.02655420  0.03239352 -1.13575918  0.17417464 -0.27126589  1.65716625\n",
      " [91] -1.03274148 -1.49568338 -0.47426398 -0.84202420  0.59661812 -1.55335240\n",
      " [97]  0.51320514 -0.24659996  1.66671251 -0.08750995"
     ]
    }
   ],
   "source": [
    "rnorm(100)"
   ],
   "id": "ef619bc4-f642-44f2-9e15-777e71b5e68d"
  }
 ],
 "nbformat": 4,
 "nbformat_minor": 5,
 "metadata": {}
}
