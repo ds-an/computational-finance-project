{
 "cells": [
  {
   "cell_type": "markdown",
   "metadata": {},
   "source": [
    "#"
   ],
   "id": "cdc30ed6-ccd8-48a2-bb9d-e32e037b70b7"
  },
  {
   "cell_type": "raw",
   "metadata": {
    "raw_mimetype": "text/html"
   },
   "source": [
    "<!--\n",
    "Put here who the board of directors are, cite some analysis.\n",
    "Describe the cybersecurity incident, values, brands.\n",
    "Cite a few articles + analysts average.\n",
    "-->"
   ],
   "id": "33b60799-437f-48bc-8b41-2c4714e3d4b1"
  },
  {
   "cell_type": "markdown",
   "metadata": {},
   "source": [
    "| Name | Title | Pay | Year Born |\n",
    "|------------------|----------------------------------------|-------|---------|\n",
    "| Ms. Linda J. Rendle | CEO & Chairman | 3.93M | 1979 |\n",
    "| Mr. Kevin B. Jacobsen | Executive VP & CFO | 1.91M | 1967 |\n",
    "| Mr. Eric H. Reynolds | Executive VP and Chief Operating & Strategy Officer | 1.96M | 1970 |\n",
    "| Ms. Angela C. Hilt | Executive VP, Chief Legal Officer & Corporate Secretary | 1.45M | 1972 |\n",
    "| Ms. Kirsten M. Marriner | Executive VP and Chief People & Corporate Affairs Officer | 1.54M | 1973 |\n",
    "| Ms. Laura E. Peck | VP, Chief Accounting Officer & Corporate Controller | – | 1977 |\n",
    "| Ms. Chau Banks | Senior VP and Chief Information & Data Officer | – | 1970 |\n",
    "| Ms. Lisah Burhan | Vice President of Investor Relations | – | – |\n",
    "| Mr. Eric Sean Schwartz | Senior VP & Chief Marketing Officer | – | 1972 |\n",
    "| Mr. Erbie L. Foster Jr. | Chief Diversity Officer | – | – |\n",
    "\n",
    "Key Executives, source: @CloroxCompanyCLX\n",
    "\n",
    "-   **Strengths**: Strong brands (e.g., Clorox bleach, Glad bags), ESG focus (recyclable packaging by 2025) .\n",
    "-   **Weaknesses**: Lower profitability vs. peers, cyberattack recovery costs ."
   ],
   "id": "1b9b9526-0c70-4620-aa0a-f7ac72fb4e5f"
  }
 ],
 "nbformat": 4,
 "nbformat_minor": 5,
 "metadata": {}
}
