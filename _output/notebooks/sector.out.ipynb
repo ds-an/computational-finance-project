{
 "cells": [
  {
   "cell_type": "markdown",
   "metadata": {},
   "source": [
    "#"
   ],
   "id": "f3c2653c-ff1e-4e6e-8a80-b258e5ef7d7d"
  },
  {
   "cell_type": "raw",
   "metadata": {
    "raw_mimetype": "text/html"
   },
   "source": [
    "<!-- Add some stuff on turbulence and economic/social instability - can lift right out of 10-k or the quarterly report. -->"
   ],
   "id": "f40a0d55-bdf3-4132-9823-254167f4b637"
  },
  {
   "cell_type": "markdown",
   "metadata": {},
   "source": [
    "### Financial Analysis of The Clorox Company (CLX) in the Consumer Defensive Sector\n",
    "\n",
    "#### **1. Sector Classification**\n",
    "\n",
    "Clorox operates in the **Consumer Defensive sector**, specifically within the Household and Personal Products sub-sector. This sector is characterized by stable demand and recession resilience.\n",
    "\n",
    "------------------------------------------------------------------------\n",
    "\n",
    "#### **2. Position Relative to Competitors**\n",
    "\n",
    "Clorox competes with major players such as **Procter & Gamble (PG)**, **Colgate-Palmolive (CL)**, **Church & Dwight (CHD)**, and **Kimberly-Clark (KMB)**. Key comparisons include:"
   ],
   "id": "e15931da-6d17-414f-833f-c46ec6d1d10a"
  },
  {
   "cell_type": "raw",
   "metadata": {
    "raw_mimetype": "text/html"
   },
   "source": [
    "<!-- Check these values -->"
   ],
   "id": "7e41f832-caa9-44f9-93f6-ddad61e032d0"
  },
  {
   "cell_type": "markdown",
   "metadata": {},
   "source": [
    "| **Metric** | **Clorox (CLX)** | **Colgate-Palmolive (CL)** | **Procter & Gamble (PG)** | **Industry Avg** |\n",
    "|-------------|--------------|----------------|----------------|--------------|\n",
    "| **Revenue (FY24)** | \\$7.09B | \\$20.10B | \\$84.04B | Varies by sub-industry |\n",
    "| **Net Margin** | 6.38% | 14.38% | ~18% (est.) | ~10-15% |\n",
    "| **P/E Ratio** | 40.62 | 24.39 | 26.66 | 20-25 |\n",
    "| **Dividend Yield** | 3.3% | 2.3% | 2.4% | 2.5-3.5% |"
   ],
   "id": "c741a528-4499-4691-a02e-a5c609b0cf01"
  },
  {
   "cell_type": "raw",
   "metadata": {
    "raw_mimetype": "text/html"
   },
   "source": [
    "<!-- Move Strengths/Weaknesses, emphasize market share -->"
   ],
   "id": "b64b5d2e-300e-4bc3-a4f8-efe49accb5b8"
  },
  {
   "cell_type": "markdown",
   "metadata": {},
   "source": [
    "-   **Market Share**: ~1.99% in cleaning products, lagging behind P&G and Colgate ."
   ],
   "id": "583b2631-68c6-4984-8b3c-f87357b53949"
  },
  {
   "cell_type": "code",
   "execution_count": null,
   "metadata": {},
   "outputs": [
    {
     "output_type": "stream",
     "name": "stderr",
     "text": [
      "Registered S3 method overwritten by 'quantmod':\n",
      "  method            from\n",
      "  as.zoo.data.frame zoo "
     ]
    },
    {
     "output_type": "stream",
     "name": "stderr",
     "text": [
      "── Attaching core tidyquant packages ─────────────────────── tidyquant 1.0.10 ──\n",
      "✔ PerformanceAnalytics 2.0.8      ✔ TTR                  0.24.4\n",
      "✔ quantmod             0.4.26     ✔ xts                  0.14.1\n",
      "── Conflicts ────────────────────────────────────────── tidyquant_conflicts() ──\n",
      "✖ zoo::as.Date()                 masks base::as.Date()\n",
      "✖ zoo::as.Date.numeric()         masks base::as.Date.numeric()\n",
      "✖ PerformanceAnalytics::legend() masks graphics::legend()\n",
      "✖ quantmod::summary()            masks base::summary()\n",
      "ℹ Use the conflicted package (<http://conflicted.r-lib.org/>) to force all conflicts to become errors"
     ]
    },
    {
     "output_type": "stream",
     "name": "stdout",
     "text": [
      "[1] \"CLX\" \"CL\"  \"PG\" "
     ]
    }
   ],
   "source": [
    "library(tidyquant)\n"
   ],
   "id": "5680c059-f6e5-437a-aa81-aa1ad089c292"
  },
  {
   "cell_type": "markdown",
   "metadata": {},
   "source": [
    "------------------------------------------------------------------------\n",
    "\n",
    "#### **3. Economic Indicator Comparison**\n",
    "\n",
    "Clorox’s performance relative to the **S&P 500** and **Dow Jones Industrial Average (DJIA)** highlights its defensive nature: - **Beta**: 0.42 (less volatile than the market). - **1-Year Stock Performance**: -3.3% (CLX) vs. +7.9% (S&P 500) and +15.05% (DJIA). - **Dividend Growth**: 35 consecutive years of increases, outperforming many S&P 500 staples."
   ],
   "id": "7b8d07b3-4fd8-4d9c-9f75-94df3fbb0839"
  },
  {
   "cell_type": "raw",
   "metadata": {
    "raw_mimetype": "text/html"
   },
   "source": [
    "<!--TODO - provide charts for these-->"
   ],
   "id": "5d96d81c-a9da-48b2-b982-5daf6b6018dd"
  },
  {
   "cell_type": "raw",
   "metadata": {
    "raw_mimetype": "text/html"
   },
   "source": [
    "<!-- ```{r}  -->"
   ],
   "id": "9f43a8f9-59fa-41ae-9500-f6ac853987af"
  },
  {
   "cell_type": "raw",
   "metadata": {
    "raw_mimetype": "text/html"
   },
   "source": [
    "<!-- # Load required libraries -->"
   ],
   "id": "7155bd9a-451e-4bc7-9e9f-6fa90142cc39"
  },
  {
   "cell_type": "raw",
   "metadata": {
    "raw_mimetype": "text/html"
   },
   "source": [
    "<!-- library(tidyquant) -->"
   ],
   "id": "139e68b3-aa09-4516-a46c-7f7963777794"
  },
  {
   "cell_type": "raw",
   "metadata": {
    "raw_mimetype": "text/html"
   },
   "source": [
    "<!-- library(ggplot2) -->"
   ],
   "id": "809c3823-9eff-476c-8e05-d243bdf23b7d"
  },
  {
   "cell_type": "raw",
   "metadata": {
    "raw_mimetype": "text/html"
   },
   "source": [
    "<!-- library(dplyr) -->"
   ],
   "id": "fd97c523-3bd2-4c71-8033-367d762fecff"
  },
  {
   "cell_type": "raw",
   "metadata": {
    "raw_mimetype": "text/html"
   },
   "source": [
    "<!---->"
   ],
   "id": "cffd4cfe-3794-40cc-8f5b-185002eb1db3"
  },
  {
   "cell_type": "raw",
   "metadata": {
    "raw_mimetype": "text/html"
   },
   "source": [
    "<!-- # Define the stock and benchmark tickers -->"
   ],
   "id": "ad007dc3-ec02-4e85-ac3a-1be9f6da3073"
  },
  {
   "cell_type": "raw",
   "metadata": {
    "raw_mimetype": "text/html"
   },
   "source": [
    "<!-- stock_ticker <- \"CLX\"  # The Clorox Company -->"
   ],
   "id": "5b714b8c-b0f8-4e69-9dc1-b43891d16d7e"
  },
  {
   "cell_type": "raw",
   "metadata": {
    "raw_mimetype": "text/html"
   },
   "source": [
    "<!-- benchmark_tickers <- c(\"^GSPC\", \"^DJI\")  # S&P 500 and Dow Jones Industrial Average -->"
   ],
   "id": "f2252d34-16b4-4b33-bfca-639498c5e819"
  },
  {
   "cell_type": "raw",
   "metadata": {
    "raw_mimetype": "text/html"
   },
   "source": [
    "<!---->"
   ],
   "id": "c51539d4-1cca-465a-9a72-c406e9ea8ec5"
  },
  {
   "cell_type": "raw",
   "metadata": {
    "raw_mimetype": "text/html"
   },
   "source": [
    "<!-- # Set the date range (last 5 years) -->"
   ],
   "id": "a0dac5da-a53e-451f-b971-417fbcaab5e2"
  },
  {
   "cell_type": "raw",
   "metadata": {
    "raw_mimetype": "text/html"
   },
   "source": [
    "<!-- end_date <- Sys.Date() -->"
   ],
   "id": "24cd1bca-11ab-4eed-abe6-08006b40e2e6"
  },
  {
   "cell_type": "raw",
   "metadata": {
    "raw_mimetype": "text/html"
   },
   "source": [
    "<!-- start_date <- seq(end_date, length = 2, by = \"-5 years\")[2] -->"
   ],
   "id": "b225bffd-1344-4684-b283-83a0cb0730b2"
  },
  {
   "cell_type": "raw",
   "metadata": {
    "raw_mimetype": "text/html"
   },
   "source": [
    "<!---->"
   ],
   "id": "d119302e-b77b-4bdd-984c-d41c945fb910"
  },
  {
   "cell_type": "raw",
   "metadata": {
    "raw_mimetype": "text/html"
   },
   "source": [
    "<!-- # Download historical data for the stock and benchmarks -->"
   ],
   "id": "b49e600b-1f7d-4dc9-adf8-e159fbff4abb"
  },
  {
   "cell_type": "raw",
   "metadata": {
    "raw_mimetype": "text/html"
   },
   "source": [
    "<!-- stock_prices <- tq_get(stock_ticker, get = \"stock.prices\", from = start_date, to = end_date) -->"
   ],
   "id": "449e890a-644b-4bdc-a4c3-2e70493f12c1"
  },
  {
   "cell_type": "raw",
   "metadata": {
    "raw_mimetype": "text/html"
   },
   "source": [
    "<!-- benchmark_prices <- tq_get(benchmark_tickers, get = \"stock.prices\", from = start_date, to = end_date) -->"
   ],
   "id": "324f2246-7e24-42a1-b9e7-421891cd4351"
  },
  {
   "cell_type": "raw",
   "metadata": {
    "raw_mimetype": "text/html"
   },
   "source": [
    "<!---->"
   ],
   "id": "59dd7b80-7b1c-4781-9d66-28d25c59dca1"
  },
  {
   "cell_type": "raw",
   "metadata": {
    "raw_mimetype": "text/html"
   },
   "source": [
    "<!-- # Calculate daily returns for the stock -->"
   ],
   "id": "c11461a4-6ef1-4c2f-add5-b3bafbdcdcaf"
  },
  {
   "cell_type": "raw",
   "metadata": {
    "raw_mimetype": "text/html"
   },
   "source": [
    "<!-- stock_returns <- stock_prices %>% -->"
   ],
   "id": "d2d6a1d5-3964-48de-be76-e224e184f1bf"
  },
  {
   "cell_type": "raw",
   "metadata": {
    "raw_mimetype": "text/html"
   },
   "source": [
    "<!--     tq_transmute(select = adjusted, mutate_fun = periodReturn, period = \"daily\", col_rename = \"stock_return\") -->"
   ],
   "id": "4808d432-89ed-454a-ab1a-a2941da9ec26"
  },
  {
   "cell_type": "raw",
   "metadata": {
    "raw_mimetype": "text/html"
   },
   "source": [
    "<!---->"
   ],
   "id": "e548585a-3a60-499c-90bd-8f55a02cf44a"
  },
  {
   "cell_type": "raw",
   "metadata": {
    "raw_mimetype": "text/html"
   },
   "source": [
    "<!-- # Calculate daily returns for the benchmarks -->"
   ],
   "id": "56cfc110-6354-46d0-a3c3-7cbed87f9035"
  },
  {
   "cell_type": "raw",
   "metadata": {
    "raw_mimetype": "text/html"
   },
   "source": [
    "<!-- benchmark_returns <- benchmark_prices %>% -->"
   ],
   "id": "56f326a6-418d-45d8-bfaf-76253fd46b7d"
  },
  {
   "cell_type": "raw",
   "metadata": {
    "raw_mimetype": "text/html"
   },
   "source": [
    "<!--     group_by(symbol) %>% -->"
   ],
   "id": "ef8ec656-7ea8-4601-bcbf-132e74312488"
  },
  {
   "cell_type": "raw",
   "metadata": {
    "raw_mimetype": "text/html"
   },
   "source": [
    "<!--     tq_transmute(select = adjusted, mutate_fun = periodReturn, period = \"daily\", col_rename = \"benchmark_return\") -->"
   ],
   "id": "37bb9c1d-7f31-4f90-902b-1ae0f812e212"
  },
  {
   "cell_type": "raw",
   "metadata": {
    "raw_mimetype": "text/html"
   },
   "source": [
    "<!---->"
   ],
   "id": "009c378e-ea1b-4f39-a825-c156cfeb0379"
  },
  {
   "cell_type": "raw",
   "metadata": {
    "raw_mimetype": "text/html"
   },
   "source": [
    "<!-- # Merge stock returns with benchmark returns -->"
   ],
   "id": "628b965a-62a2-4181-8780-c591d128c26a"
  },
  {
   "cell_type": "raw",
   "metadata": {
    "raw_mimetype": "text/html"
   },
   "source": [
    "<!-- combined_returns <- left_join(stock_returns, benchmark_returns, by = \"date\") -->"
   ],
   "id": "8ce2e92f-144e-4e2e-8ca8-3eeb50d330fe"
  },
  {
   "cell_type": "raw",
   "metadata": {
    "raw_mimetype": "text/html"
   },
   "source": [
    "<!---->"
   ],
   "id": "aa1d182f-f931-40f2-81d1-e69797f63785"
  },
  {
   "cell_type": "raw",
   "metadata": {
    "raw_mimetype": "text/html"
   },
   "source": [
    "<!-- # Calculate rolling beta (252-day window) for each benchmark -->"
   ],
   "id": "56c7b868-fa46-4512-a8d3-d80a28434a00"
  },
  {
   "cell_type": "raw",
   "metadata": {
    "raw_mimetype": "text/html"
   },
   "source": [
    "<!-- beta_values <- combined_returns %>% -->"
   ],
   "id": "19864049-9dbd-4657-9b39-77635970175f"
  },
  {
   "cell_type": "raw",
   "metadata": {
    "raw_mimetype": "text/html"
   },
   "source": [
    "<!--     group_by(symbol) %>% -->"
   ],
   "id": "28803385-1a51-4e0f-91f0-a98d7e85d3bc"
  },
  {
   "cell_type": "raw",
   "metadata": {
    "raw_mimetype": "text/html"
   },
   "source": [
    "<!--     tq_mutate(mutate_fun = runCor, x = stock_returns, y = benchmark_returns, n = 252) %>% -->"
   ],
   "id": "50340478-ccd9-4ec3-b176-fa237258bca5"
  },
  {
   "cell_type": "raw",
   "metadata": {
    "raw_mimetype": "text/html"
   },
   "source": [
    "<!--     rename(beta = running_correlation) %>% -->"
   ],
   "id": "0d0a381f-f04a-4e6e-8b46-7ee5d3a89135"
  },
  {
   "cell_type": "raw",
   "metadata": {
    "raw_mimetype": "text/html"
   },
   "source": [
    "<!--     ungroup() -->"
   ],
   "id": "7998249e-a9f2-4dae-929a-ca649d4f0ced"
  },
  {
   "cell_type": "raw",
   "metadata": {
    "raw_mimetype": "text/html"
   },
   "source": [
    "<!---->"
   ],
   "id": "f3f34ec6-b01a-41f5-ba0e-7921a446c69c"
  },
  {
   "cell_type": "raw",
   "metadata": {
    "raw_mimetype": "text/html"
   },
   "source": [
    "<!-- # Plot the rolling beta values -->"
   ],
   "id": "9ebfdc0d-5726-4678-96c7-487ec272273e"
  },
  {
   "cell_type": "raw",
   "metadata": {
    "raw_mimetype": "text/html"
   },
   "source": [
    "<!-- ggplot(beta_values, aes(x = date, y = beta, color = symbol)) + -->"
   ],
   "id": "5cef1203-4a5e-4a52-9a2b-caae17c3553c"
  },
  {
   "cell_type": "raw",
   "metadata": {
    "raw_mimetype": "text/html"
   },
   "source": [
    "<!--     geom_line() + -->"
   ],
   "id": "fab03486-06b4-4ddf-b119-f49c7cd173d2"
  },
  {
   "cell_type": "raw",
   "metadata": {
    "raw_mimetype": "text/html"
   },
   "source": [
    "<!--     labs(title = paste(\"5-Year Rolling Beta for\", stock_ticker, \"vs S&P 500 and DJIA\"), -->"
   ],
   "id": "0c378bd8-9e87-45b3-bdc4-4693ec5d471d"
  },
  {
   "cell_type": "raw",
   "metadata": {
    "raw_mimetype": "text/html"
   },
   "source": [
    "<!--          x = \"Date\", -->"
   ],
   "id": "8b2a213c-fda1-4a27-a0ea-cc5f2a83e145"
  },
  {
   "cell_type": "raw",
   "metadata": {
    "raw_mimetype": "text/html"
   },
   "source": [
    "<!--          y = \"Beta\", -->"
   ],
   "id": "4021f40c-a784-4d41-a837-a565b85bdb70"
  },
  {
   "cell_type": "raw",
   "metadata": {
    "raw_mimetype": "text/html"
   },
   "source": [
    "<!--          color = \"Benchmark\") + -->"
   ],
   "id": "206d1896-a234-4eb1-802d-966999d781d5"
  },
  {
   "cell_type": "raw",
   "metadata": {
    "raw_mimetype": "text/html"
   },
   "source": [
    "<!--     theme_minimal() -->"
   ],
   "id": "b6a320c0-1a15-4e12-b81b-6c897ea78038"
  },
  {
   "cell_type": "markdown",
   "metadata": {},
   "source": [
    "\n",
    "    ---\n",
    "\n",
    "    #### **4. Strategic and Financial Challenges**\n",
    "    - **Cyberattack Impact**: Caused a 20% Q1 FY24 sales decline, though recovery efforts restored ~90% market share by Q3 .\n",
    "    - **Margin Recovery**: Gross margin expanded to 46.5% in Q4 FY24, driven by cost savings .\n",
    "    - **Divestitures**: Sold non-core businesses (Argentina, VMS) to focus on high-growth segments .\n",
    "\n",
    "    <!-- Move this to other chapters -->\n",
    "\n",
    "    ---\n",
    "\n",
    "    #### **5. R Code for Visualization**\n",
    "    Below is R code to compare Clorox’s stock performance with competitors and indices (not really, but look into how to get that working):\n",
    "\n",
    "    ::: {.cell}\n",
    "\n",
    "    ```{.r .cell-code .hidden}\n",
    "    library(PerformanceAnalytics)\n",
    "\n",
    "    library(quantmod)\n",
    "\n",
    "    # Acquire historical stock data\n",
    "\n",
    "    getSymbols(\"CLX\", from = \"2015-01-01\", to = \"2025-01-01\")\n",
    "\n",
    "    [1] \"CLX\"\n",
    "\n",
    "``` r\n",
    "stock_prices <- Cl(CLX)\n",
    "\n",
    "# Calculate periodic returns\n",
    "\n",
    "returns <- ROC(stock_prices, type = \"discrete\")\n",
    "\n",
    "returns <- na.omit(returns) # Remove NA values from the dataset\n",
    "\n",
    "# Analyze the performance\n",
    "\n",
    "chart.CumReturns(returns, main = \"Cumulative Returns of CLX\")\n",
    "```\n",
    "\n",
    "![](attachment:sector_files/figure-html/cumulative-returns-1.png)\n",
    "\n",
    ":::"
   ],
   "attachments": {
    "sector_files/figure-html/cumulative-returns-1.png": {
     "image/png": "[encoded data removed]"
    }
   },
   "id": "4351af96-ef56-42af-b713-080d878d75a8"
  },
  {
   "cell_type": "code",
   "execution_count": null,
   "metadata": {},
   "outputs": [],
   "source": [
    "library(quantmod)\n",
    "library(kableExtra)\n",
    "coef_table <- data.frame(\n",
    "  Variables = c(\"var 1\", \"var 2\", \"var 3\"),\n",
    "  Coefficients = c(1.6, 0.2, -2.0),\n",
    "  Conf.Lower = c(1.3, -0.4, -2.5),\n",
    "  Conf.Higher = c(1.9, 0.6, -1.4)\n",
    ") \n",
    "\n",
    "sol = data.frame(\n",
    "  Variable = coef_table$Variables,\n",
    "  Visualization = \"\"\n",
    ") %>%\n",
    "  kbl(booktabs = T) %>%\n",
    "  kable_classic(full_width = FALSE) %>%\n",
    "  column_spec(2, image = spec_pointrange(\n",
    "    x = coef_table$Coefficients, \n",
    "    xmin = coef_table$Conf.Lower, \n",
    "    xmax = coef_table$Conf.Higher, \n",
    "    vline = 0)\n",
    "    )\n"
   ],
   "id": "ca35af87-2bef-4161-83ae-dd9a8d4bcdb1"
  },
  {
   "cell_type": "markdown",
   "metadata": {},
   "source": [
    "------------------------------------------------------------------------\n",
    "\n",
    "#### **6. Key Insights**\n",
    "\n",
    "-   Clorox’s valuation (P/E 40.6) reflects optimism about its recovery and IGNITE strategy but is expensive compared to peers .\n",
    "-   Consumer Staples sector growth (CAGR 3.7% for cleaning products) supports long-term stability, but competition from eco-friendly brands (e.g., Seventh Generation) poses risks .\n",
    "-   Clorox’s underperformance vs. indices highlights sector-specific challenges (inflation, supply chain) .\n",
    "\n",
    "------------------------------------------------------------------------\n",
    "\n",
    "For real-time data, update the R code with current ticker prices and adjust the date range. The analysis underscores Clorox’s resilience in a defensive sector but signals caution due to margin pressures and competitive headwinds."
   ],
   "id": "249aaf57-60c5-46b2-8cfd-43b302b8855a"
  }
 ],
 "nbformat": 4,
 "nbformat_minor": 5,
 "metadata": {}
}
