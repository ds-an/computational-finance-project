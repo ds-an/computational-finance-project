{
 "cells": [
  {
   "cell_type": "markdown",
   "metadata": {},
   "source": [
    "#"
   ],
   "id": "1734b9b8-69a7-422c-921b-8b03c107aff9"
  },
  {
   "cell_type": "raw",
   "metadata": {
    "raw_mimetype": "text/html"
   },
   "source": [
    "<!--\n",
    "Can reduce portfolio volatility by pairing inversely correlated securities.\n",
    "-->"
   ],
   "id": "99546445-1574-4728-af28-e2cb460dff5b"
  }
 ],
 "nbformat": 4,
 "nbformat_minor": 5,
 "metadata": {}
}
