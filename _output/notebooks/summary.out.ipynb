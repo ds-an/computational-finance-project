{
 "cells": [
  {
   "cell_type": "markdown",
   "metadata": {},
   "source": [
    "#"
   ],
   "id": "fe63bf3f-cbcc-488e-b8d0-fa134ceb8ec7"
  },
  {
   "cell_type": "raw",
   "metadata": {
    "raw_mimetype": "text/html"
   },
   "source": [
    "<!--\n",
    "Can reduce portfolio volatility by pairing inversely correlated securities.\n",
    "-->"
   ],
   "id": "48d69095-9745-46f4-9fad-8ccbdc7dd64d"
  }
 ],
 "nbformat": 4,
 "nbformat_minor": 5,
 "metadata": {}
}
