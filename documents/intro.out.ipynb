{
 "cells": [
  {
   "cell_type": "markdown",
   "metadata": {},
   "source": [
    "# \n",
    "\n",
    "> **On the simplified nature of analysis in this document.**\n",
    ">\n",
    "> Subject of financial analysis is very information-dense and to perform such an analysis (be it an analysis of industrial sectors, fundamental, technical, etc.) in earnest is a non-trivial job that we don’t see ourselves capable of performing.\n",
    ">\n",
    "> Therefore, this document aims to provide a simplified, non-rigorous analysis aiming to showcase our understanding of course material and minimal proficiency in scientific communication using tools such as web scraping and searching for financial data, DeepSeek LLM with Web Search functionality, R language \\[@ProjectStatisticalComputing\\], its “tidyquant” package \\[@danchoTidyquantTidyQuantitative2025\\] and Quarto scientific publishing system \\[@Quarto\\]."
   ],
   "id": "8ff2fe61-2478-493a-9be7-b4a8a578f4ca"
  }
 ],
 "nbformat": 4,
 "nbformat_minor": 5,
 "metadata": {}
}
