{
  "cells": [
    {
      "cell_type": "markdown",
      "metadata": {},
      "source": [
        "# \n",
        "\n",
        "> **On the simplified nature of analysis in this document.**\n",
        ">\n",
        "> Subject of financial analysis is very information-dense and to perform\n",
        "> such an analysis (be it an analysis of industrial sectors,\n",
        "> fundamental, technical, etc.) in earnest is a non-trivial job that we\n",
        "> don’t see ourselves capable of performing.\n",
        ">\n",
        "> Therefore, this document aims to provide a simplified, non-rigorous\n",
        "> analysis aiming to showcase our understanding of course material and\n",
        "> minimal proficiency in scientific communication using tools such as\n",
        "> web scraping and searching for financial data, DeepSeek LLM with Web\n",
        "> Search functionality, R language \\[@ProjectStatisticalComputing\\], its\n",
        "> “tidyquant” package \\[@danchoTidyquantTidyQuantitative2025\\] and\n",
        "> Quarto scientific publishing system \\[@Quarto\\]."
      ],
      "id": "d629b204-be95-4581-869b-76e2d258296d"
    }
  ],
  "nbformat": 4,
  "nbformat_minor": 5,
  "metadata": {
    "kernelspec": {
      "display_name": "Python 3",
      "language": "python",
      "name": "python3"
    }
  }
}