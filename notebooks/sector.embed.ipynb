{
  "cells": [
    {
      "cell_type": "markdown",
      "metadata": {},
      "source": [
        "#"
      ],
      "id": "f317e90a-eec8-4ef5-afde-875367ae77ac"
    },
    {
      "cell_type": "raw",
      "metadata": {
        "raw_mimetype": "text/html"
      },
      "source": [
        "<!-- Add some stuff on turbulence and economic/social instability - can lift right out of 10-k or the quarterly report. -->"
      ],
      "id": "de9bc971-f7ef-41eb-b694-b3258ea31c47"
    },
    {
      "cell_type": "markdown",
      "metadata": {},
      "source": [
        "### Financial Analysis of The Clorox Company (CLX) in the Consumer Defensive Sector\n",
        "\n",
        "#### **1. Sector Classification**\n",
        "\n",
        "Clorox operates in the **Consumer Defensive sector**, specifically\n",
        "within the Household and Personal Products sub-sector. This sector is\n",
        "characterized by stable demand and recession resilience.\n",
        "\n",
        "------------------------------------------------------------------------\n",
        "\n",
        "#### **2. Position Relative to Competitors**\n",
        "\n",
        "Clorox competes with major players such as **Procter & Gamble (PG)**,\n",
        "**Colgate-Palmolive (CL)**, **Church & Dwight (CHD)**, and\n",
        "**Kimberly-Clark (KMB)**. Key comparisons include:"
      ],
      "id": "02c95d9d-cf3c-4a8b-8e6c-25d1c6e81674"
    },
    {
      "cell_type": "raw",
      "metadata": {
        "raw_mimetype": "text/html"
      },
      "source": [
        "<!-- Check these values -->"
      ],
      "id": "8a41e3f3-9cd1-4efb-9c38-253041532120"
    },
    {
      "cell_type": "markdown",
      "metadata": {},
      "source": [
        "| **Metric** | **Clorox (CLX)** | **Colgate-Palmolive (CL)** | **Procter & Gamble (PG)** | **Industry Avg** |\n",
        "|-------------|--------------|----------------|----------------|--------------|\n",
        "| **Revenue (FY24)** | \\$7.09B | \\$20.10B | \\$84.04B | Varies by sub-industry |\n",
        "| **Net Margin** | 6.38% | 14.38% | ~18% (est.) | ~10-15% |\n",
        "| **P/E Ratio** | 40.62 | 24.39 | 26.66 | 20-25 |\n",
        "| **Dividend Yield** | 3.3% | 2.3% | 2.4% | 2.5-3.5% |"
      ],
      "id": "50fa44ab-dc2f-4b45-9345-9d6f356a94ab"
    },
    {
      "cell_type": "raw",
      "metadata": {
        "raw_mimetype": "text/html"
      },
      "source": [
        "<!-- Move Strengths/Weaknesses, emphasize market share -->"
      ],
      "id": "3f04ac06-1859-4e2f-99e5-aeac984d94a4"
    },
    {
      "cell_type": "markdown",
      "metadata": {},
      "source": [
        "-   **Market Share**: ~1.99% in cleaning products, lagging behind P&G\n",
        "    and Colgate .\n",
        "\n",
        "| COMPANY NAME | MARKET SHARE 12 Months Ending Q4 2024 | MARKET SHARE 12 Months Ending Q3 2024 | MARKET SHARE MRQ Q4 2024 | MARKET SHARE Q3 2024 |\n",
        "|----------------|-----------------|-----------------|------------|-----------|\n",
        "| **The Clorox Company** | 2.61% | 2.80% | 2.42 % | 2.66 % |\n",
        "| The Campbells Company | 3.60% | 3.61% | 3.97% | 3.46% |\n",
        "| Colgate palmolive Company | 7.32% | 7.54% | 7.09% | 7.59% |\n",
        "| Conagra Brands Inc | 4.58% | 4.61% | 4.58% | 4.21% |\n",
        "| Ecolab Inc | 5.06% | 5.07% | 5.26% | 5.40% |\n",
        "| Mccormick and Company Incorporated | 2.45% | 2.50% | 2.58% | 2.53% |\n",
        "| Procter and Gamble Co | 30.72% | 31.46% | 31.37% | 32.77% |\n",
        "| Hormel Foods Corporation | 5.52% | 5.65% | 5.09% | 4.37% |\n",
        "| Avon Products Inc | 1.15% | 1.28% | 0.95% | 1.23% |\n",
        "| Horizon Kinetics Holding Corporation | 0.01% | 0.00% | 0.02% | 0.00% |\n",
        "| Ingredion Incorporated | 2.75% | 2.89% | 2.68% | 2.83% |\n",
        "| Lancaster Colony Corporation | 0.69% | 0.70% | 0.73% | 0.70% |\n",
        "| J and j Snack Foods Corp | 0.58% | 0.59% | 0.52% | 0.64% |\n",
        "| Treehouse Foods Inc | 1.19% | 1.24% | 1.20% | 1.19% |\n",
        "| Dole Plc | 3.00% | 3.46% | 3.00% | 3.46% |\n",
        "| Church and Dwight Co Inc | 2.22% | 2.27% | 2.27% | 2.28% |\n",
        "| Coty Inc | 2.22% | 2.30% | 2.39% | 2.52% |\n",
        "| Unilever Plc | 24.32% | 22.02% | 24.32% | 22.02% |\n",
        "| SUBTOTAL | 100% | 100% | 100% | 100% |\n",
        "\n",
        "CLX’s Market share relative to its competitors, as of Q4 2024 within the\n",
        "Consumer Non Cyclical Sector (i.e. Consumer Defensive), source:\n",
        "@CloroxMarketShare"
      ],
      "id": "43caf2d9-0d6a-491c-a3c2-c08544959561"
    },
    {
      "cell_type": "code",
      "execution_count": null,
      "metadata": {},
      "outputs": [
        {
          "output_type": "stream",
          "name": "stderr",
          "text": [
            "Registered S3 method overwritten by 'quantmod':\n",
            "  method            from\n",
            "  as.zoo.data.frame zoo "
          ]
        },
        {
          "output_type": "stream",
          "name": "stderr",
          "text": [
            "── Attaching core tidyquant packages ─────────────────────── tidyquant 1.0.10 ──\n",
            "✔ PerformanceAnalytics 2.0.8      ✔ TTR                  0.24.4\n",
            "✔ quantmod             0.4.26     ✔ xts                  0.14.1\n",
            "── Conflicts ────────────────────────────────────────── tidyquant_conflicts() ──\n",
            "✖ zoo::as.Date()                 masks base::as.Date()\n",
            "✖ zoo::as.Date.numeric()         masks base::as.Date.numeric()\n",
            "✖ PerformanceAnalytics::legend() masks graphics::legend()\n",
            "✖ quantmod::summary()            masks base::summary()\n",
            "ℹ Use the conflicted package (<http://conflicted.r-lib.org/>) to force all conflicts to become errors"
          ]
        },
        {
          "output_type": "stream",
          "name": "stderr",
          "text": [
            "\n",
            "######################### Warning from 'xts' package ##########################\n",
            "#                                                                             #\n",
            "# The dplyr lag() function breaks how base R's lag() function is supposed to  #\n",
            "# work, which breaks lag(my_xts). Calls to lag(my_xts) that you type or       #\n",
            "# source() into this session won't work correctly.                            #\n",
            "#                                                                             #\n",
            "# Use stats::lag() to make sure you're not using dplyr::lag(), or you can add #\n",
            "# conflictRules('dplyr', exclude = 'lag') to your .Rprofile to stop           #\n",
            "# dplyr from breaking base R's lag() function.                                #\n",
            "#                                                                             #\n",
            "# Code in packages is not affected. It's protected by R's namespace mechanism #\n",
            "# Set `options(xts.warn_dplyr_breaks_lag = FALSE)` to suppress this warning.  #\n",
            "#                                                                             #\n",
            "###############################################################################\n",
            "\n",
            "Attaching package: 'dplyr'\n",
            "\n",
            "The following objects are masked from 'package:xts':\n",
            "\n",
            "    first, last\n",
            "\n",
            "The following objects are masked from 'package:stats':\n",
            "\n",
            "    filter, lag\n",
            "\n",
            "The following objects are masked from 'package:base':\n",
            "\n",
            "    intersect, setdiff, setequal, union"
          ]
        },
        {
          "output_type": "stream",
          "name": "stdout",
          "text": [
            "# A tibble: 6 × 8\n",
            "  symbol date        open  high   low close  volume adjusted\n",
            "  <chr>  <date>     <dbl> <dbl> <dbl> <dbl>   <dbl>    <dbl>\n",
            "1 CLX    2017-01-03  121.  121.  120.  121. 1046000     96.1\n",
            "2 CLX    2017-01-04  122.  123.  121.  122. 1114600     96.9\n",
            "3 CLX    2017-01-05  122.  123.  121.  123.  775700     97.5\n",
            "4 CLX    2017-01-06  122.  123.  122.  123.  526400     97.3\n",
            "5 CLX    2017-01-09  123.  123.  121.  121.  812900     96.4\n",
            "6 CLX    2017-01-10  121   121.  119.  119. 1150100     94.8"
          ]
        },
        {
          "output_type": "stream",
          "name": "stdout",
          "text": [
            "# A tibble: 3 × 8\n",
            "# Groups:   symbol [3]\n",
            "  symbol date        open  high   low close  volume adjusted\n",
            "  <chr>  <date>     <dbl> <dbl> <dbl> <dbl>   <dbl>    <dbl>\n",
            "1 CL     2017-01-03  65.6  65.7  65.1  65.5 3038900     54.0\n",
            "2 CLX    2017-01-03 121.  121.  120.  121.  1046000     96.1\n",
            "3 PG     2017-01-03  83.9  84.4  83.5  84.2 8792700     67.4"
          ]
        },
        {
          "output_type": "display_data",
          "metadata": {},
          "data": {
            "image/png": "[encoded data removed]"
          }
        }
      ],
      "source": [
        "library(tidyquant)"
      ],
      "id": "54330e04-a465-4a07-91e9-ca3aaf0423b9"
    },
    {
      "cell_type": "markdown",
      "metadata": {},
      "source": [
        "------------------------------------------------------------------------\n",
        "\n",
        "#### **3. Economic Indicator Comparison**\n",
        "\n",
        "Clorox’s performance relative to the **S&P 500** and **Dow Jones\n",
        "Industrial Average (DJIA)** highlights its defensive nature: - **Beta**:\n",
        "0.42 (less volatile than the market). - **1-Year Stock Performance**:\n",
        "-3.3% (CLX) vs. +7.9% (S&P 500) and +15.05% (DJIA). - **Dividend\n",
        "Growth**: 35 consecutive years of increases, outperforming many S&P 500\n",
        "staples."
      ],
      "id": "71619c98-5997-4c07-b3fc-9bb10b94161d"
    },
    {
      "cell_type": "raw",
      "metadata": {
        "raw_mimetype": "text/html"
      },
      "source": [
        "<!--TODO - provide charts for these-->"
      ],
      "id": "97037455-9fed-4d49-8acd-daa095a44eba"
    },
    {
      "cell_type": "raw",
      "metadata": {
        "raw_mimetype": "text/html"
      },
      "source": [
        "<!-- ```{r}  -->"
      ],
      "id": "ffc28177-4d18-485d-94d7-8c220c78ee44"
    },
    {
      "cell_type": "raw",
      "metadata": {
        "raw_mimetype": "text/html"
      },
      "source": [
        "<!-- # Load required libraries -->"
      ],
      "id": "4fafd686-1ab6-48d8-b74b-2b8f61f94fc9"
    },
    {
      "cell_type": "raw",
      "metadata": {
        "raw_mimetype": "text/html"
      },
      "source": [
        "<!-- library(tidyquant) -->"
      ],
      "id": "c185a9ac-e8bd-4ff6-833a-cf7e6480e8e9"
    },
    {
      "cell_type": "raw",
      "metadata": {
        "raw_mimetype": "text/html"
      },
      "source": [
        "<!-- library(ggplot2) -->"
      ],
      "id": "3bcc7b49-dae3-49e2-bc22-59b5b7aa57b9"
    },
    {
      "cell_type": "raw",
      "metadata": {
        "raw_mimetype": "text/html"
      },
      "source": [
        "<!-- library(dplyr) -->"
      ],
      "id": "d2565c26-b273-4df7-bc24-0ab8fa55ed92"
    },
    {
      "cell_type": "raw",
      "metadata": {
        "raw_mimetype": "text/html"
      },
      "source": [
        "<!---->"
      ],
      "id": "c393d911-1579-4ffe-8c0d-2fdddaa037c1"
    },
    {
      "cell_type": "raw",
      "metadata": {
        "raw_mimetype": "text/html"
      },
      "source": [
        "<!-- # Define the stock and benchmark tickers -->"
      ],
      "id": "ba7f98d2-7efa-4d56-bfdf-e8e07135da71"
    },
    {
      "cell_type": "raw",
      "metadata": {
        "raw_mimetype": "text/html"
      },
      "source": [
        "<!-- stock_ticker <- \"CLX\"  # The Clorox Company -->"
      ],
      "id": "fafbfb52-5441-475e-bb64-8d74fb365e22"
    },
    {
      "cell_type": "raw",
      "metadata": {
        "raw_mimetype": "text/html"
      },
      "source": [
        "<!-- benchmark_tickers <- c(\"^GSPC\", \"^DJI\")  # S&P 500 and Dow Jones Industrial Average -->"
      ],
      "id": "1f0155d8-8d5d-4724-8297-8290172d4196"
    },
    {
      "cell_type": "raw",
      "metadata": {
        "raw_mimetype": "text/html"
      },
      "source": [
        "<!---->"
      ],
      "id": "823cd3aa-05b1-4836-81f1-d5e5c153d71f"
    },
    {
      "cell_type": "raw",
      "metadata": {
        "raw_mimetype": "text/html"
      },
      "source": [
        "<!-- # Set the date range (last 5 years) -->"
      ],
      "id": "d5d6127d-861d-4536-bb0a-c2e984f405d5"
    },
    {
      "cell_type": "raw",
      "metadata": {
        "raw_mimetype": "text/html"
      },
      "source": [
        "<!-- end_date <- Sys.Date() -->"
      ],
      "id": "e18f58f9-a2e0-4ae3-a065-890643e45ee2"
    },
    {
      "cell_type": "raw",
      "metadata": {
        "raw_mimetype": "text/html"
      },
      "source": [
        "<!-- start_date <- seq(end_date, length = 2, by = \"-5 years\")[2] -->"
      ],
      "id": "0cda6c42-b74f-4e78-a7c0-ee533cefa166"
    },
    {
      "cell_type": "raw",
      "metadata": {
        "raw_mimetype": "text/html"
      },
      "source": [
        "<!---->"
      ],
      "id": "6e77bf82-e250-4c94-8482-b0f3dfb0be72"
    },
    {
      "cell_type": "raw",
      "metadata": {
        "raw_mimetype": "text/html"
      },
      "source": [
        "<!-- # Download historical data for the stock and benchmarks -->"
      ],
      "id": "1a55fd35-ada8-4326-bbf1-d88e5a6257dc"
    },
    {
      "cell_type": "raw",
      "metadata": {
        "raw_mimetype": "text/html"
      },
      "source": [
        "<!-- stock_prices <- tq_get(stock_ticker, get = \"stock.prices\", from = start_date, to = end_date) -->"
      ],
      "id": "be5b9fab-1ae6-4da8-9ba5-28957f519af9"
    },
    {
      "cell_type": "raw",
      "metadata": {
        "raw_mimetype": "text/html"
      },
      "source": [
        "<!-- benchmark_prices <- tq_get(benchmark_tickers, get = \"stock.prices\", from = start_date, to = end_date) -->"
      ],
      "id": "862d149a-37f1-4bf8-b022-c606895a4154"
    },
    {
      "cell_type": "raw",
      "metadata": {
        "raw_mimetype": "text/html"
      },
      "source": [
        "<!---->"
      ],
      "id": "f70469b5-c497-4a71-9f48-dbd3f3d5c8aa"
    },
    {
      "cell_type": "raw",
      "metadata": {
        "raw_mimetype": "text/html"
      },
      "source": [
        "<!-- # Calculate daily returns for the stock -->"
      ],
      "id": "3d87bf64-460d-4853-a9ca-ed2942bd941a"
    },
    {
      "cell_type": "raw",
      "metadata": {
        "raw_mimetype": "text/html"
      },
      "source": [
        "<!-- stock_returns <- stock_prices %>% -->"
      ],
      "id": "74bde5a0-1ca7-40d9-b6b5-df4fdddd7192"
    },
    {
      "cell_type": "raw",
      "metadata": {
        "raw_mimetype": "text/html"
      },
      "source": [
        "<!--     tq_transmute(select = adjusted, mutate_fun = periodReturn, period = \"daily\", col_rename = \"stock_return\") -->"
      ],
      "id": "c8eb9e78-86c8-4cbd-a6e0-bdc96585e98a"
    },
    {
      "cell_type": "raw",
      "metadata": {
        "raw_mimetype": "text/html"
      },
      "source": [
        "<!---->"
      ],
      "id": "0439b9fc-edc3-4f0d-841c-0a5775a525cc"
    },
    {
      "cell_type": "raw",
      "metadata": {
        "raw_mimetype": "text/html"
      },
      "source": [
        "<!-- # Calculate daily returns for the benchmarks -->"
      ],
      "id": "86bd3271-1bcf-4383-b7a3-42dbc311a2af"
    },
    {
      "cell_type": "raw",
      "metadata": {
        "raw_mimetype": "text/html"
      },
      "source": [
        "<!-- benchmark_returns <- benchmark_prices %>% -->"
      ],
      "id": "033d9323-1241-441a-92c3-9ef024172245"
    },
    {
      "cell_type": "raw",
      "metadata": {
        "raw_mimetype": "text/html"
      },
      "source": [
        "<!--     group_by(symbol) %>% -->"
      ],
      "id": "a2b9b648-ccd3-428c-b977-52c175797a49"
    },
    {
      "cell_type": "raw",
      "metadata": {
        "raw_mimetype": "text/html"
      },
      "source": [
        "<!--     tq_transmute(select = adjusted, mutate_fun = periodReturn, period = \"daily\", col_rename = \"benchmark_return\") -->"
      ],
      "id": "ac45fa16-dd37-42d6-962c-2ad0159bb1d2"
    },
    {
      "cell_type": "raw",
      "metadata": {
        "raw_mimetype": "text/html"
      },
      "source": [
        "<!---->"
      ],
      "id": "0c9dfea0-8523-4794-bb7d-ce94a896bbdf"
    },
    {
      "cell_type": "raw",
      "metadata": {
        "raw_mimetype": "text/html"
      },
      "source": [
        "<!-- # Merge stock returns with benchmark returns -->"
      ],
      "id": "012ebe64-00be-4189-93e5-f91468b61703"
    },
    {
      "cell_type": "raw",
      "metadata": {
        "raw_mimetype": "text/html"
      },
      "source": [
        "<!-- combined_returns <- left_join(stock_returns, benchmark_returns, by = \"date\") -->"
      ],
      "id": "7dee1e4a-d568-4aed-a163-2ffb04ba3a89"
    },
    {
      "cell_type": "raw",
      "metadata": {
        "raw_mimetype": "text/html"
      },
      "source": [
        "<!---->"
      ],
      "id": "2907fd67-effb-4603-96c3-fd87d3c1c31d"
    },
    {
      "cell_type": "raw",
      "metadata": {
        "raw_mimetype": "text/html"
      },
      "source": [
        "<!-- # Calculate rolling beta (252-day window) for each benchmark -->"
      ],
      "id": "4e347e18-041b-4a41-b963-846304f6d9dc"
    },
    {
      "cell_type": "raw",
      "metadata": {
        "raw_mimetype": "text/html"
      },
      "source": [
        "<!-- beta_values <- combined_returns %>% -->"
      ],
      "id": "947d4bdc-3784-4aac-b9b9-cb6954a7f802"
    },
    {
      "cell_type": "raw",
      "metadata": {
        "raw_mimetype": "text/html"
      },
      "source": [
        "<!--     group_by(symbol) %>% -->"
      ],
      "id": "c5b5f700-907f-478d-90ea-a5f7386bcbcd"
    },
    {
      "cell_type": "raw",
      "metadata": {
        "raw_mimetype": "text/html"
      },
      "source": [
        "<!--     tq_mutate(mutate_fun = runCor, x = stock_returns, y = benchmark_returns, n = 252) %>% -->"
      ],
      "id": "fc731c67-2269-4afa-afc6-78d02ed1703a"
    },
    {
      "cell_type": "raw",
      "metadata": {
        "raw_mimetype": "text/html"
      },
      "source": [
        "<!--     rename(beta = running_correlation) %>% -->"
      ],
      "id": "1a7e791d-9c1f-48a3-a630-9446feacc01e"
    },
    {
      "cell_type": "raw",
      "metadata": {
        "raw_mimetype": "text/html"
      },
      "source": [
        "<!--     ungroup() -->"
      ],
      "id": "4644e409-1387-43a8-9319-b831ac34164a"
    },
    {
      "cell_type": "raw",
      "metadata": {
        "raw_mimetype": "text/html"
      },
      "source": [
        "<!---->"
      ],
      "id": "5fbb03f4-8179-4c2e-ac94-5de5d6fc7e28"
    },
    {
      "cell_type": "raw",
      "metadata": {
        "raw_mimetype": "text/html"
      },
      "source": [
        "<!-- # Plot the rolling beta values -->"
      ],
      "id": "f865afa6-9063-4d51-9f1a-5cc05c93f4d7"
    },
    {
      "cell_type": "raw",
      "metadata": {
        "raw_mimetype": "text/html"
      },
      "source": [
        "<!-- ggplot(beta_values, aes(x = date, y = beta, color = symbol)) + -->"
      ],
      "id": "c3c8b8e2-9f83-430b-ae03-5820318605f9"
    },
    {
      "cell_type": "raw",
      "metadata": {
        "raw_mimetype": "text/html"
      },
      "source": [
        "<!--     geom_line() + -->"
      ],
      "id": "143c7d5e-155c-493a-a08b-f5f471637e00"
    },
    {
      "cell_type": "raw",
      "metadata": {
        "raw_mimetype": "text/html"
      },
      "source": [
        "<!--     labs(title = paste(\"5-Year Rolling Beta for\", stock_ticker, \"vs S&P 500 and DJIA\"), -->"
      ],
      "id": "eab323c8-4bae-45b6-bba3-56fce0639831"
    },
    {
      "cell_type": "raw",
      "metadata": {
        "raw_mimetype": "text/html"
      },
      "source": [
        "<!--          x = \"Date\", -->"
      ],
      "id": "01ad0acd-29ff-4a7e-8827-c52be37bef45"
    },
    {
      "cell_type": "raw",
      "metadata": {
        "raw_mimetype": "text/html"
      },
      "source": [
        "<!--          y = \"Beta\", -->"
      ],
      "id": "4c5fe4eb-d79c-4254-ab55-ad76038c7a73"
    },
    {
      "cell_type": "raw",
      "metadata": {
        "raw_mimetype": "text/html"
      },
      "source": [
        "<!--          color = \"Benchmark\") + -->"
      ],
      "id": "7d00ce9d-a2f4-4ecc-95ba-546cfb9cf9e0"
    },
    {
      "cell_type": "raw",
      "metadata": {
        "raw_mimetype": "text/html"
      },
      "source": [
        "<!--     theme_minimal() -->"
      ],
      "id": "ea63cb08-7e45-41f1-bad9-d01be7d2a82f"
    },
    {
      "cell_type": "markdown",
      "metadata": {},
      "source": [
        "\n",
        "    ---\n",
        "\n",
        "    #### **4. Strategic and Financial Challenges**\n",
        "    - **Cyberattack Impact**: Caused a 20% Q1 FY24 sales decline, though recovery efforts restored ~90% market share by Q3 .\n",
        "    - **Margin Recovery**: Gross margin expanded to 46.5% in Q4 FY24, driven by cost savings .\n",
        "    - **Divestitures**: Sold non-core businesses (Argentina, VMS) to focus on high-growth segments .\n",
        "\n",
        "    <!-- Move this to other chapters -->\n",
        "\n",
        "    ---\n",
        "\n",
        "    #### **5. R Code for Visualization**\n",
        "    Below is R code to compare Clorox’s stock performance with competitors and indices (not really, but look into how to get that working):\n",
        "\n",
        "    ::: {.cell}\n",
        "\n",
        "    ```{.r .cell-code .hidden}\n",
        "    library(PerformanceAnalytics)\n",
        "\n",
        "    library(quantmod)\n",
        "\n",
        "    # Acquire historical stock data\n",
        "\n",
        "    getSymbols(\"CLX\", from = \"2015-01-01\", to = \"2025-01-01\")\n",
        "\n",
        "    [1] \"CLX\"\n",
        "\n",
        "``` r\n",
        "stock_prices <- Cl(CLX)\n",
        "\n",
        "# Calculate periodic returns\n",
        "\n",
        "returns <- ROC(stock_prices, type = \"discrete\")\n",
        "\n",
        "returns <- na.omit(returns) # Remove NA values from the dataset\n",
        "\n",
        "# Analyze the performance\n",
        "\n",
        "chart.CumReturns(returns, main = \"Cumulative Returns of CLX\")\n",
        "```\n",
        "\n",
        "![](attachment:sector_files/figure-ipynb/cumulative-returns-1.png)\n",
        "\n",
        ":::"
      ],
      "attachments": {
        "sector_files/figure-ipynb/cumulative-returns-1.png": {
          "image/png": "[encoded data removed]"
        }
      },
      "id": "fd5826d0-530c-4389-b0b3-3eb780fce541"
    },
    {
      "cell_type": "code",
      "execution_count": null,
      "metadata": {},
      "outputs": [
        {
          "output_type": "stream",
          "name": "stderr",
          "text": [
            "\n",
            "Attaching package: 'kableExtra'"
          ]
        },
        {
          "output_type": "stream",
          "name": "stderr",
          "text": [
            "The following object is masked from 'package:dplyr':\n",
            "\n",
            "    group_rows"
          ]
        }
      ],
      "source": [
        "library(quantmod)\n",
        "library(kableExtra)"
      ],
      "id": "25744df1-040c-4fc5-9f03-40513e5d4ff8"
    },
    {
      "cell_type": "markdown",
      "metadata": {},
      "source": [
        "------------------------------------------------------------------------\n",
        "\n",
        "#### **6. Key Insights**\n",
        "\n",
        "-   Clorox’s valuation (P/E 40.6) reflects optimism about its recovery\n",
        "    and IGNITE strategy but is expensive compared to peers .\n",
        "-   Consumer Staples sector growth (CAGR 3.7% for cleaning products)\n",
        "    supports long-term stability, but competition from eco-friendly\n",
        "    brands (e.g., Seventh Generation) poses risks .\n",
        "-   Clorox’s underperformance vs. indices highlights sector-specific\n",
        "    challenges (inflation, supply chain) .\n",
        "\n",
        "------------------------------------------------------------------------\n",
        "\n",
        "For real-time data, update the R code with current ticker prices and\n",
        "adjust the date range. The analysis underscores Clorox’s resilience in a\n",
        "defensive sector but signals caution due to margin pressures and\n",
        "competitive headwinds."
      ],
      "id": "52454f4c-4f52-4112-b449-9ab2e460861d"
    }
  ],
  "nbformat": 4,
  "nbformat_minor": 5,
  "metadata": {
    "kernelspec": {
      "display_name": "Python 3",
      "language": "python",
      "name": "python3"
    }
  }
}