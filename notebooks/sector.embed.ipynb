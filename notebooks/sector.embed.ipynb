{
  "cells": [
    {
      "cell_type": "markdown",
      "metadata": {},
      "source": [
        "# \n",
        "\n",
        "### Financial Analysis of The Clorox Company (CLX) in the Consumer Staples Sector\n",
        "\n",
        "#### **1. GICS Sector Classification**\n",
        "\n",
        "Clorox operates in the **Consumer Defensive sector**, specifically\n",
        "within the Household and Personal Products sub-sector. This sector is\n",
        "characterized by stable demand, recession resilience.\n",
        "\n",
        "------------------------------------------------------------------------\n",
        "\n",
        "#### **2. Position Relative to Competitors**\n",
        "\n",
        "Clorox competes with major players such as **Procter & Gamble (PG)**,\n",
        "**Colgate-Palmolive (CL)**, **Church & Dwight (CHD)**, and\n",
        "**Kimberly-Clark (KMB)**. Key comparisons include:\n",
        "\n",
        "| **Metric** | **Clorox (CLX)** | **Colgate-Palmolive (CL)** | **Procter & Gamble (PG)** | **Industry Avg** |\n",
        "|-------------|--------------|----------------|----------------|--------------|\n",
        "| **Revenue (FY24)** | \\$7.09B | \\$20.10B | \\$84.04B | Varies by sub-industry |\n",
        "| **Net Margin** | 6.38% | 14.38% | ~18% (est.) | ~10-15% |\n",
        "| **P/E Ratio** | 40.62 | 24.39 | 26.66 | 20-25 |\n",
        "| **Dividend Yield** | 3.3% | 2.3% | 2.4% | 2.5-3.5% |\n",
        "\n",
        "-   **Strengths**: Strong brands (e.g., Clorox bleach, Glad bags), ESG\n",
        "    focus (recyclable packaging by 2025) .\n",
        "-   **Weaknesses**: Lower profitability vs. peers, cyberattack recovery\n",
        "    costs .\n",
        "-   **Market Share**: ~1.99% in cleaning products, lagging behind P&G\n",
        "    and Colgate .\n",
        "\n",
        "------------------------------------------------------------------------\n",
        "\n",
        "#### **3. Economic Indicator Comparison**\n",
        "\n",
        "Clorox’s performance relative to the **S&P 500** and **Dow Jones\n",
        "Industrial Average (DJIA)** highlights its defensive nature: - **Beta**:\n",
        "0.42 (less volatile than the market) . - **1-Year Stock Performance**:\n",
        "-3.3% (CLX) vs. +7.9% (S&P 500) and +15.05% (DJIA) . - **Dividend\n",
        "Growth**: 35 consecutive years of increases, outperforming many S&P 500\n",
        "staples .\n",
        "\n",
        "------------------------------------------------------------------------\n",
        "\n",
        "#### **4. Strategic and Financial Challenges**\n",
        "\n",
        "-   **Cyberattack Impact**: Caused a 20% Q1 FY24 sales decline, though\n",
        "    recovery efforts restored ~90% market share by Q3 .\n",
        "-   **Margin Recovery**: Gross margin expanded to 46.5% in Q4 FY24,\n",
        "    driven by cost savings .\n",
        "-   **Divestitures**: Sold non-core businesses (Argentina, VMS) to focus\n",
        "    on high-growth segments .\n",
        "\n",
        "------------------------------------------------------------------------\n",
        "\n",
        "#### **5. R Code for Visualization**\n",
        "\n",
        "Below is R code to compare Clorox’s stock performance with competitors\n",
        "and indices (not really, but look into how to get that working):"
      ],
      "id": "58db932c-e7e4-4ac1-967f-7b7c41cd255a"
    },
    {
      "cell_type": "code",
      "execution_count": null,
      "metadata": {},
      "outputs": [
        {
          "output_type": "stream",
          "name": "stderr",
          "text": [
            "Loading required package: xts"
          ]
        },
        {
          "output_type": "stream",
          "name": "stderr",
          "text": [
            "Loading required package: zoo"
          ]
        },
        {
          "output_type": "stream",
          "name": "stderr",
          "text": [
            "\n",
            "Attaching package: 'zoo'"
          ]
        },
        {
          "output_type": "stream",
          "name": "stderr",
          "text": [
            "The following objects are masked from 'package:base':\n",
            "\n",
            "    as.Date, as.Date.numeric"
          ]
        },
        {
          "output_type": "stream",
          "name": "stderr",
          "text": [
            "\n",
            "Attaching package: 'PerformanceAnalytics'"
          ]
        },
        {
          "output_type": "stream",
          "name": "stderr",
          "text": [
            "The following object is masked from 'package:graphics':\n",
            "\n",
            "    legend"
          ]
        },
        {
          "output_type": "stream",
          "name": "stderr",
          "text": [
            "Loading required package: TTR"
          ]
        },
        {
          "output_type": "stream",
          "name": "stderr",
          "text": [
            "Registered S3 method overwritten by 'quantmod':\n",
            "  method            from\n",
            "  as.zoo.data.frame zoo "
          ]
        },
        {
          "output_type": "stream",
          "name": "stdout",
          "text": [
            "[1] \"CLX\""
          ]
        },
        {
          "output_type": "display_data",
          "metadata": {},
          "data": {
            "image/png": "[encoded data removed]"
          }
        }
      ],
      "source": [
        "library(PerformanceAnalytics)"
      ],
      "id": "92e86b61-deb2-4af4-acdd-14f2248b3e7d"
    },
    {
      "cell_type": "code",
      "execution_count": null,
      "metadata": {},
      "outputs": [],
      "source": [
        "library(quantmod)\n",
        "library(kableExtra)\n",
        "coef_table <- data.frame(\n",
        "  Variables = c(\"var 1\", \"var 2\", \"var 3\"),\n",
        "  Coefficients = c(1.6, 0.2, -2.0),\n",
        "  Conf.Lower = c(1.3, -0.4, -2.5),\n",
        "  Conf.Higher = c(1.9, 0.6, -1.4)\n",
        ") \n",
        "\n",
        "sol = data.frame(\n",
        "  Variable = coef_table$Variables,\n",
        "  Visualization = \"\"\n",
        ") %>%\n",
        "  kbl(booktabs = T) %>%\n",
        "  kable_classic(full_width = FALSE) %>%\n",
        "  column_spec(2, image = spec_pointrange(\n",
        "    x = coef_table$Coefficients, \n",
        "    xmin = coef_table$Conf.Lower, \n",
        "    xmax = coef_table$Conf.Higher, \n",
        "    vline = 0)\n",
        "    )"
      ],
      "id": "82889abc-efff-4b73-9045-16059707ed62"
    },
    {
      "cell_type": "markdown",
      "metadata": {},
      "source": [
        "------------------------------------------------------------------------\n",
        "\n",
        "#### **6. Key Insights**\n",
        "\n",
        "-   Clorox’s valuation (P/E 40.6) reflects optimism about its recovery\n",
        "    and IGNITE strategy but is expensive compared to peers .\n",
        "-   Consumer Staples sector growth (CAGR 3.7% for cleaning products)\n",
        "    supports long-term stability, but competition from eco-friendly\n",
        "    brands (e.g., Seventh Generation) poses risks .\n",
        "-   Clorox’s underperformance vs. indices highlights sector-specific\n",
        "    challenges (inflation, supply chain) .\n",
        "\n",
        "------------------------------------------------------------------------\n",
        "\n",
        "For real-time data, update the R code with current ticker prices and\n",
        "adjust the date range. The analysis underscores Clorox’s resilience in a\n",
        "defensive sector but signals caution due to margin pressures and\n",
        "competitive headwinds."
      ],
      "id": "9a3d0b1a-4cbf-4ff6-bad2-a809237f8475"
    }
  ],
  "nbformat": 4,
  "nbformat_minor": 5,
  "metadata": {
    "kernelspec": {
      "display_name": "Python 3",
      "language": "python",
      "name": "python3"
    }
  }
}