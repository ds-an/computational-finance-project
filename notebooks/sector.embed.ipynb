{
  "cells": [
    {
      "cell_type": "markdown",
      "metadata": {},
      "source": [
        "#"
      ],
      "id": "c623c557-41d9-4163-9c57-a469cf2fd9cc"
    },
    {
      "cell_type": "raw",
      "metadata": {
        "raw_mimetype": "text/html"
      },
      "source": [
        "<!-- Add some stuff on turbulence and economic/social instability - can lift right out of 10-k or the quarterly report. -->"
      ],
      "id": "81acec21-f08c-42a6-af36-9cfd9cf6789d"
    },
    {
      "cell_type": "markdown",
      "metadata": {},
      "source": [
        "### Financial Analysis of The Clorox Company (CLX) in the Consumer Defensive Sector\n",
        "\n",
        "#### **1. Sector Analysis**\n",
        "\n",
        "Clorox operates in the **Consumer Defensive sector**, specifically\n",
        "within the Household and Personal Products sub-sector. This sector is\n",
        "characterized by stable demand and recession resilience.\n",
        "\n",
        "Sector’s **Market Cap** is estimated to be \\$3.7 trillion. The **Market\n",
        "weight (share)** of the sector relative to the other 10 sectors is\n",
        "5.45%.\n",
        "\n",
        "Sector’s **Year-To-Date Return** is 6.17%, which outperforms S&P500\n",
        "(3.54%).\n",
        "\n",
        "------------------------------------------------------------------------\n",
        "\n",
        "#### **2. Position Relative to Competitors**"
      ],
      "id": "5edfdac5-fb0a-4bce-93c9-4de3d9dbd894"
    },
    {
      "cell_type": "raw",
      "metadata": {
        "raw_mimetype": "text/html"
      },
      "source": [
        "<!-- Check these values -->"
      ],
      "id": "ec18fb5a-4261-427b-b6a0-8f0813a2b1fb"
    },
    {
      "cell_type": "raw",
      "metadata": {
        "raw_mimetype": "text/html"
      },
      "source": [
        "<!-- | **Metric**           | **Clorox (CLX)**      | **Colgate-Palmolive (CL)** | **Procter & Gamble (PG)** | **Industry Avg**       | -->"
      ],
      "id": "358a3a2b-4767-4157-b944-88179aa036eb"
    },
    {
      "cell_type": "raw",
      "metadata": {
        "raw_mimetype": "text/html"
      },
      "source": [
        "<!-- |----------------------|-----------------------|----------------------------|---------------------------|------------------------| -->"
      ],
      "id": "8fd1fd3c-889f-402c-8df6-8e65467ef265"
    },
    {
      "cell_type": "raw",
      "metadata": {
        "raw_mimetype": "text/html"
      },
      "source": [
        "<!-- | **Revenue (FY24)**   | $7.09B   | $20.10B        | $84.04B       | Varies by sub-industry | -->"
      ],
      "id": "0c5a8285-4056-4fa9-9c45-04a0f7f687cb"
    },
    {
      "cell_type": "raw",
      "metadata": {
        "raw_mimetype": "text/html"
      },
      "source": [
        "<!-- | **Net Margin**       | 6.38%    | 14.38%         | ~18% (est.)               | ~10-15%               | -->"
      ],
      "id": "50cf09a9-065a-45be-a31c-373d3d1d9b72"
    },
    {
      "cell_type": "raw",
      "metadata": {
        "raw_mimetype": "text/html"
      },
      "source": [
        "<!-- | **P/E Ratio**        | 40.62    | 24.39          | 26.66         | 20-25                 | -->"
      ],
      "id": "ef6daa97-2074-4a4e-9ef6-8ed3824c0e56"
    },
    {
      "cell_type": "raw",
      "metadata": {
        "raw_mimetype": "text/html"
      },
      "source": [
        "<!-- | **Dividend Yield**   | 3.3%     | 2.3%           | 2.4%                      | 2.5-3.5%              | -->"
      ],
      "id": "390ed092-ab38-46a0-b543-2177ab60179c"
    },
    {
      "cell_type": "raw",
      "metadata": {
        "raw_mimetype": "text/html"
      },
      "source": [
        "<!-- Move Strengths/Weaknesses, emphasize market share -->"
      ],
      "id": "25e9952c-edf0-4aab-96d9-9554b0264e55"
    },
    {
      "cell_type": "markdown",
      "metadata": {},
      "source": [
        "Clorox’s market share inside it’s sector is relatively small:\n",
        "\n",
        "| COMPANY NAME | MARKET SHARE 12 Months Ending Q4 2024 | MARKET SHARE 12 Months Ending Q3 2024 | MARKET SHARE MRQ Q4 2024 | MARKET SHARE Q3 2024 |\n",
        "|----------------|-----------------|-----------------|------------|-----------|\n",
        "| **The Clorox Company** | 2.61% | 2.80% | 2.42 % | 2.66 % |\n",
        "| The Campbells Company | 3.60% | 3.61% | 3.97% | 3.46% |\n",
        "| Colgate palmolive Company | 7.32% | 7.54% | 7.09% | 7.59% |\n",
        "| Conagra Brands Inc | 4.58% | 4.61% | 4.58% | 4.21% |\n",
        "| Ecolab Inc | 5.06% | 5.07% | 5.26% | 5.40% |\n",
        "| Mccormick and Company Incorporated | 2.45% | 2.50% | 2.58% | 2.53% |\n",
        "| Procter and Gamble Co | 30.72% | 31.46% | 31.37% | 32.77% |\n",
        "| Hormel Foods Corporation | 5.52% | 5.65% | 5.09% | 4.37% |\n",
        "| Avon Products Inc | 1.15% | 1.28% | 0.95% | 1.23% |\n",
        "| Horizon Kinetics Holding Corporation | 0.01% | 0.00% | 0.02% | 0.00% |\n",
        "| Ingredion Incorporated | 2.75% | 2.89% | 2.68% | 2.83% |\n",
        "| Lancaster Colony Corporation | 0.69% | 0.70% | 0.73% | 0.70% |\n",
        "| J and j Snack Foods Corp | 0.58% | 0.59% | 0.52% | 0.64% |\n",
        "| Treehouse Foods Inc | 1.19% | 1.24% | 1.20% | 1.19% |\n",
        "| Dole Plc | 3.00% | 3.46% | 3.00% | 3.46% |\n",
        "| Church and Dwight Co Inc | 2.22% | 2.27% | 2.27% | 2.28% |\n",
        "| Coty Inc | 2.22% | 2.30% | 2.39% | 2.52% |\n",
        "| Unilever Plc | 24.32% | 22.02% | 24.32% | 22.02% |\n",
        "| SUBTOTAL | 100% | 100% | 100% | 100% |\n",
        "\n",
        "CLX’s Market share relative to its competitors, as of Q4 2024 within the\n",
        "Consumer Non Cyclical Sector (i.e. Consumer Defensive), source:\n",
        "@CloroxMarketShare\n",
        "\n",
        "Clorox competes with major players such as **Procter & Gamble (PG)**,\n",
        "**Colgate-Palmolive (CL)**, **Church & Dwight (CHD)**, and\n",
        "**Kimberly-Clark (KMB)**."
      ],
      "id": "2b47589f-d19b-43cd-8a7a-52f07ae98338"
    },
    {
      "cell_type": "code",
      "execution_count": null,
      "metadata": {},
      "outputs": [
        {
          "output_type": "stream",
          "name": "stderr",
          "text": [
            "Registered S3 method overwritten by 'quantmod':\n",
            "  method            from\n",
            "  as.zoo.data.frame zoo "
          ]
        },
        {
          "output_type": "stream",
          "name": "stderr",
          "text": [
            "── Attaching core tidyquant packages ─────────────────────── tidyquant 1.0.10 ──\n",
            "✔ PerformanceAnalytics 2.0.8      ✔ TTR                  0.24.4\n",
            "✔ quantmod             0.4.26     ✔ xts                  0.14.1\n",
            "── Conflicts ────────────────────────────────────────── tidyquant_conflicts() ──\n",
            "✖ zoo::as.Date()                 masks base::as.Date()\n",
            "✖ zoo::as.Date.numeric()         masks base::as.Date.numeric()\n",
            "✖ PerformanceAnalytics::legend() masks graphics::legend()\n",
            "✖ quantmod::summary()            masks base::summary()\n",
            "ℹ Use the conflicted package (<http://conflicted.r-lib.org/>) to force all conflicts to become errors"
          ]
        },
        {
          "output_type": "stream",
          "name": "stderr",
          "text": [
            "\n",
            "######################### Warning from 'xts' package ##########################\n",
            "#                                                                             #\n",
            "# The dplyr lag() function breaks how base R's lag() function is supposed to  #\n",
            "# work, which breaks lag(my_xts). Calls to lag(my_xts) that you type or       #\n",
            "# source() into this session won't work correctly.                            #\n",
            "#                                                                             #\n",
            "# Use stats::lag() to make sure you're not using dplyr::lag(), or you can add #\n",
            "# conflictRules('dplyr', exclude = 'lag') to your .Rprofile to stop           #\n",
            "# dplyr from breaking base R's lag() function.                                #\n",
            "#                                                                             #\n",
            "# Code in packages is not affected. It's protected by R's namespace mechanism #\n",
            "# Set `options(xts.warn_dplyr_breaks_lag = FALSE)` to suppress this warning.  #\n",
            "#                                                                             #\n",
            "###############################################################################\n",
            "\n",
            "Attaching package: 'dplyr'\n",
            "\n",
            "The following objects are masked from 'package:xts':\n",
            "\n",
            "    first, last\n",
            "\n",
            "The following objects are masked from 'package:stats':\n",
            "\n",
            "    filter, lag\n",
            "\n",
            "The following objects are masked from 'package:base':\n",
            "\n",
            "    intersect, setdiff, setequal, union"
          ]
        },
        {
          "output_type": "display_data",
          "metadata": {},
          "data": {
            "image/png": "[encoded data removed]"
          }
        }
      ],
      "source": [
        "library(tidyquant)"
      ],
      "id": "3a63f2ad-880c-46f5-97f4-01dc3fc19fc0"
    },
    {
      "cell_type": "markdown",
      "metadata": {},
      "source": [
        "------------------------------------------------------------------------"
      ],
      "id": "34ce3196-17e8-4ed3-a566-6b478bcfffc0"
    },
    {
      "cell_type": "raw",
      "metadata": {
        "raw_mimetype": "text/html"
      },
      "source": [
        "<!-- #### **3. Economic Indicator Comparison** -->"
      ],
      "id": "2bcab447-f243-4eec-b7d4-0b6bd5aedbd4"
    },
    {
      "cell_type": "raw",
      "metadata": {
        "raw_mimetype": "text/html"
      },
      "source": [
        "<!-- Clorox’s performance relative to the **S&P 500** and **Dow Jones Industrial Average (DJIA)** highlights its defensive nature: -->"
      ],
      "id": "d769d7ed-6e6e-4343-8d58-107aea0fe8c5"
    },
    {
      "cell_type": "raw",
      "metadata": {
        "raw_mimetype": "text/html"
      },
      "source": [
        "<!-- - **Beta**: 0.42 (less volatile than the market). -->"
      ],
      "id": "1cdd0947-89bb-4151-a5dc-6606fe9037e8"
    },
    {
      "cell_type": "raw",
      "metadata": {
        "raw_mimetype": "text/html"
      },
      "source": [
        "<!-- - **1-Year Stock Performance**: -3.3% (CLX) vs. +7.9% (S&P 500) and +15.05% (DJIA). -->"
      ],
      "id": "b073d66c-6781-410e-9f4e-f7f6eef96a36"
    },
    {
      "cell_type": "raw",
      "metadata": {
        "raw_mimetype": "text/html"
      },
      "source": [
        "<!-- - **Dividend Growth**: 35 consecutive years of increases, outperforming many S&P 500 staples. -->"
      ],
      "id": "518375b3-f636-44e7-a99b-50641492977f"
    },
    {
      "cell_type": "raw",
      "metadata": {
        "raw_mimetype": "text/html"
      },
      "source": [
        "<!--TODO - provide charts for these-->"
      ],
      "id": "2170a3b6-e766-4b08-9f03-3eea2068733c"
    },
    {
      "cell_type": "raw",
      "metadata": {
        "raw_mimetype": "text/html"
      },
      "source": [
        "<!-- ```{r}  -->"
      ],
      "id": "4276e78a-65d7-4cbd-8704-49a5c5f09cdf"
    },
    {
      "cell_type": "raw",
      "metadata": {
        "raw_mimetype": "text/html"
      },
      "source": [
        "<!-- # Load required libraries -->"
      ],
      "id": "986e4e47-8ee7-4fa6-b477-0ff9cccffbd8"
    },
    {
      "cell_type": "raw",
      "metadata": {
        "raw_mimetype": "text/html"
      },
      "source": [
        "<!-- library(tidyquant) -->"
      ],
      "id": "e3da1d0d-d2ff-4ea7-9171-7e3e0fcfc394"
    },
    {
      "cell_type": "raw",
      "metadata": {
        "raw_mimetype": "text/html"
      },
      "source": [
        "<!-- library(ggplot2) -->"
      ],
      "id": "4066f0c6-f626-48cf-a6a2-029989b062ff"
    },
    {
      "cell_type": "raw",
      "metadata": {
        "raw_mimetype": "text/html"
      },
      "source": [
        "<!-- library(dplyr) -->"
      ],
      "id": "5ab321dd-e4f1-4e55-910b-3daf4038717c"
    },
    {
      "cell_type": "raw",
      "metadata": {
        "raw_mimetype": "text/html"
      },
      "source": [
        "<!---->"
      ],
      "id": "eb05dbb4-55a1-481c-8f5d-b2b9f41e446b"
    },
    {
      "cell_type": "raw",
      "metadata": {
        "raw_mimetype": "text/html"
      },
      "source": [
        "<!-- # Define the stock and benchmark tickers -->"
      ],
      "id": "9792a9a2-5ac8-47ed-b83f-d87072436a1b"
    },
    {
      "cell_type": "raw",
      "metadata": {
        "raw_mimetype": "text/html"
      },
      "source": [
        "<!-- stock_ticker <- \"CLX\"  # The Clorox Company -->"
      ],
      "id": "4fe1737b-3445-41dc-ade2-c21a9eaef0a4"
    },
    {
      "cell_type": "raw",
      "metadata": {
        "raw_mimetype": "text/html"
      },
      "source": [
        "<!-- benchmark_tickers <- c(\"^GSPC\", \"^DJI\")  # S&P 500 and Dow Jones Industrial Average -->"
      ],
      "id": "ee9ad6f0-f786-4689-b2bf-af1ad099b162"
    },
    {
      "cell_type": "raw",
      "metadata": {
        "raw_mimetype": "text/html"
      },
      "source": [
        "<!---->"
      ],
      "id": "71edf784-f6c0-47e6-b775-989c2632f254"
    },
    {
      "cell_type": "raw",
      "metadata": {
        "raw_mimetype": "text/html"
      },
      "source": [
        "<!-- # Set the date range (last 5 years) -->"
      ],
      "id": "b28cb7d9-8535-4e61-b7d8-8e9a71b4e615"
    },
    {
      "cell_type": "raw",
      "metadata": {
        "raw_mimetype": "text/html"
      },
      "source": [
        "<!-- end_date <- Sys.Date() -->"
      ],
      "id": "3800f62d-9c0c-48fc-8e3c-b1c6858f61aa"
    },
    {
      "cell_type": "raw",
      "metadata": {
        "raw_mimetype": "text/html"
      },
      "source": [
        "<!-- start_date <- seq(end_date, length = 2, by = \"-5 years\")[2] -->"
      ],
      "id": "ef5e3dd6-fff0-49cf-8edf-364645d53c21"
    },
    {
      "cell_type": "raw",
      "metadata": {
        "raw_mimetype": "text/html"
      },
      "source": [
        "<!---->"
      ],
      "id": "05364041-de55-4a2b-a1dc-7d1a74e6b0f2"
    },
    {
      "cell_type": "raw",
      "metadata": {
        "raw_mimetype": "text/html"
      },
      "source": [
        "<!-- # Download historical data for the stock and benchmarks -->"
      ],
      "id": "c98078e5-737f-438a-bd2d-a8c9dedbc6ce"
    },
    {
      "cell_type": "raw",
      "metadata": {
        "raw_mimetype": "text/html"
      },
      "source": [
        "<!-- stock_prices <- tq_get(stock_ticker, get = \"stock.prices\", from = start_date, to = end_date) -->"
      ],
      "id": "5921ba04-dd5d-4b33-b4b0-9410668d965f"
    },
    {
      "cell_type": "raw",
      "metadata": {
        "raw_mimetype": "text/html"
      },
      "source": [
        "<!-- benchmark_prices <- tq_get(benchmark_tickers, get = \"stock.prices\", from = start_date, to = end_date) -->"
      ],
      "id": "2fe9638f-63da-4820-bd9a-b015c3ab156b"
    },
    {
      "cell_type": "raw",
      "metadata": {
        "raw_mimetype": "text/html"
      },
      "source": [
        "<!---->"
      ],
      "id": "5bc2856a-545c-4f5a-8c8a-f608de05095b"
    },
    {
      "cell_type": "raw",
      "metadata": {
        "raw_mimetype": "text/html"
      },
      "source": [
        "<!-- # Calculate daily returns for the stock -->"
      ],
      "id": "210a2047-84cf-47e8-b8c8-2bc2c0a34035"
    },
    {
      "cell_type": "raw",
      "metadata": {
        "raw_mimetype": "text/html"
      },
      "source": [
        "<!-- stock_returns <- stock_prices %>% -->"
      ],
      "id": "3cfcebcb-50c2-4634-9f27-dfe054bc7919"
    },
    {
      "cell_type": "raw",
      "metadata": {
        "raw_mimetype": "text/html"
      },
      "source": [
        "<!--     tq_transmute(select = adjusted, mutate_fun = periodReturn, period = \"daily\", col_rename = \"stock_return\") -->"
      ],
      "id": "3d3ad9d1-34ab-4457-aef1-4db4dd27bfe0"
    },
    {
      "cell_type": "raw",
      "metadata": {
        "raw_mimetype": "text/html"
      },
      "source": [
        "<!---->"
      ],
      "id": "bf4d2ce5-ee1c-45ec-a1f7-f289eba2de00"
    },
    {
      "cell_type": "raw",
      "metadata": {
        "raw_mimetype": "text/html"
      },
      "source": [
        "<!-- # Calculate daily returns for the benchmarks -->"
      ],
      "id": "8395cb05-dc6b-4fcb-aced-1cee864a7848"
    },
    {
      "cell_type": "raw",
      "metadata": {
        "raw_mimetype": "text/html"
      },
      "source": [
        "<!-- benchmark_returns <- benchmark_prices %>% -->"
      ],
      "id": "47eb0316-eeba-4ff1-854e-61d262e465e1"
    },
    {
      "cell_type": "raw",
      "metadata": {
        "raw_mimetype": "text/html"
      },
      "source": [
        "<!--     group_by(symbol) %>% -->"
      ],
      "id": "9b1e7961-4bc2-4522-b6c0-b1e965954d62"
    },
    {
      "cell_type": "raw",
      "metadata": {
        "raw_mimetype": "text/html"
      },
      "source": [
        "<!--     tq_transmute(select = adjusted, mutate_fun = periodReturn, period = \"daily\", col_rename = \"benchmark_return\") -->"
      ],
      "id": "f9b5f294-3a18-4217-bfbe-de6da1af4c52"
    },
    {
      "cell_type": "raw",
      "metadata": {
        "raw_mimetype": "text/html"
      },
      "source": [
        "<!---->"
      ],
      "id": "982bdaa1-52b4-464b-b897-b0fa862fe9e4"
    },
    {
      "cell_type": "raw",
      "metadata": {
        "raw_mimetype": "text/html"
      },
      "source": [
        "<!-- # Merge stock returns with benchmark returns -->"
      ],
      "id": "d1467c9f-4d6d-45b5-af8d-327fbc5b6d3c"
    },
    {
      "cell_type": "raw",
      "metadata": {
        "raw_mimetype": "text/html"
      },
      "source": [
        "<!-- combined_returns <- left_join(stock_returns, benchmark_returns, by = \"date\") -->"
      ],
      "id": "48ddce6a-3473-4628-861f-169edc29ee5c"
    },
    {
      "cell_type": "raw",
      "metadata": {
        "raw_mimetype": "text/html"
      },
      "source": [
        "<!---->"
      ],
      "id": "1a6407fe-ba51-4ff8-a055-6cf1d94333dc"
    },
    {
      "cell_type": "raw",
      "metadata": {
        "raw_mimetype": "text/html"
      },
      "source": [
        "<!-- # Calculate rolling beta (252-day window) for each benchmark -->"
      ],
      "id": "3d7339ac-d8f5-4c9d-b248-41e3d0f40dad"
    },
    {
      "cell_type": "raw",
      "metadata": {
        "raw_mimetype": "text/html"
      },
      "source": [
        "<!-- beta_values <- combined_returns %>% -->"
      ],
      "id": "c6419de7-2b91-4a21-8f6a-d2035f06bb9e"
    },
    {
      "cell_type": "raw",
      "metadata": {
        "raw_mimetype": "text/html"
      },
      "source": [
        "<!--     group_by(symbol) %>% -->"
      ],
      "id": "dc0e4573-ed78-4251-966d-ba9eb054a437"
    },
    {
      "cell_type": "raw",
      "metadata": {
        "raw_mimetype": "text/html"
      },
      "source": [
        "<!--     tq_mutate(mutate_fun = runCor, x = stock_returns, y = benchmark_returns, n = 252) %>% -->"
      ],
      "id": "408af11e-b2d3-47ec-9c4f-c4a3a52ada4d"
    },
    {
      "cell_type": "raw",
      "metadata": {
        "raw_mimetype": "text/html"
      },
      "source": [
        "<!--     rename(beta = running_correlation) %>% -->"
      ],
      "id": "cfa27d8f-4030-4215-8a1c-44364cbdbc88"
    },
    {
      "cell_type": "raw",
      "metadata": {
        "raw_mimetype": "text/html"
      },
      "source": [
        "<!--     ungroup() -->"
      ],
      "id": "d6729a57-c044-469d-9151-14aef8e6375c"
    },
    {
      "cell_type": "raw",
      "metadata": {
        "raw_mimetype": "text/html"
      },
      "source": [
        "<!---->"
      ],
      "id": "31072fc0-80c2-40dc-aa56-19af7833a50e"
    },
    {
      "cell_type": "raw",
      "metadata": {
        "raw_mimetype": "text/html"
      },
      "source": [
        "<!-- # Plot the rolling beta values -->"
      ],
      "id": "8db23b31-f689-4b51-a649-92d513ae3f77"
    },
    {
      "cell_type": "raw",
      "metadata": {
        "raw_mimetype": "text/html"
      },
      "source": [
        "<!-- ggplot(beta_values, aes(x = date, y = beta, color = symbol)) + -->"
      ],
      "id": "bc9136ba-e27f-40de-b7d1-1ce45e7764d0"
    },
    {
      "cell_type": "raw",
      "metadata": {
        "raw_mimetype": "text/html"
      },
      "source": [
        "<!--     geom_line() + -->"
      ],
      "id": "dec237b7-0443-4c21-ad1b-010e5bc2c4e5"
    },
    {
      "cell_type": "raw",
      "metadata": {
        "raw_mimetype": "text/html"
      },
      "source": [
        "<!--     labs(title = paste(\"5-Year Rolling Beta for\", stock_ticker, \"vs S&P 500 and DJIA\"), -->"
      ],
      "id": "57e40eb1-9e17-4dc2-8074-5981c6730da0"
    },
    {
      "cell_type": "raw",
      "metadata": {
        "raw_mimetype": "text/html"
      },
      "source": [
        "<!--          x = \"Date\", -->"
      ],
      "id": "1ee4354e-2b48-416e-ad13-c1cdd7e9b21b"
    },
    {
      "cell_type": "raw",
      "metadata": {
        "raw_mimetype": "text/html"
      },
      "source": [
        "<!--          y = \"Beta\", -->"
      ],
      "id": "b37c88b6-a2c8-4522-955b-fe6384cd74a6"
    },
    {
      "cell_type": "raw",
      "metadata": {
        "raw_mimetype": "text/html"
      },
      "source": [
        "<!--          color = \"Benchmark\") + -->"
      ],
      "id": "c20561d6-0304-4f73-b344-24731be97a24"
    },
    {
      "cell_type": "raw",
      "metadata": {
        "raw_mimetype": "text/html"
      },
      "source": [
        "<!--     theme_minimal() -->"
      ],
      "id": "26e45ae8-e34c-4228-9f28-377cf3fb4257"
    },
    {
      "cell_type": "raw",
      "metadata": {
        "raw_mimetype": "text/html"
      },
      "source": [
        "<!-- ``` -->"
      ],
      "id": "ecb13ea5-32cb-4c05-bd13-ce5bc294c0e2"
    },
    {
      "cell_type": "markdown",
      "metadata": {},
      "source": [
        "------------------------------------------------------------------------\n",
        "\n",
        "#### **4. Strategic and Financial Challenges**\n",
        "\n",
        "-   **Cyberattack Impact**: Caused a 20% Q1 FY24 sales decline, though\n",
        "    recovery efforts restored ~90% market share by Q3 .\n",
        "-   **Margin Recovery**: Gross margin expanded to 46.5% in Q4 FY24,\n",
        "    driven by cost savings .\n",
        "-   **Divestitures**: Sold non-core businesses (Argentina, VMS) to focus\n",
        "    on high-growth segments ."
      ],
      "id": "6d2496c0-0a3a-4259-b144-429accb8b637"
    },
    {
      "cell_type": "raw",
      "metadata": {
        "raw_mimetype": "text/html"
      },
      "source": [
        "<!-- Move this to other chapters -->"
      ],
      "id": "d10ade7c-f1c1-4789-9a44-217accf8cc73"
    },
    {
      "cell_type": "markdown",
      "metadata": {},
      "source": [
        "------------------------------------------------------------------------\n",
        "\n",
        "------------------------------------------------------------------------\n",
        "\n",
        "#### **6. Key Insights**\n",
        "\n",
        "-   Clorox’s valuation (P/E 40.6) reflects optimism about its recovery\n",
        "    and IGNITE strategy but is expensive compared to peers .\n",
        "-   Consumer Staples sector growth (CAGR 3.7% for cleaning products)\n",
        "    supports long-term stability, but competition from eco-friendly\n",
        "    brands (e.g., Seventh Generation) poses risks .\n",
        "-   Clorox’s underperformance vs. indices highlights sector-specific\n",
        "    challenges (inflation, supply chain) .\n",
        "\n",
        "------------------------------------------------------------------------\n",
        "\n",
        "For real-time data, update the R code with current ticker prices and\n",
        "adjust the date range. The analysis underscores Clorox’s resilience in a\n",
        "defensive sector but signals caution due to margin pressures and\n",
        "competitive headwinds."
      ],
      "id": "063c7087-98f4-42ee-9ee8-b762d3d38b8b"
    }
  ],
  "nbformat": 4,
  "nbformat_minor": 5,
  "metadata": {
    "kernelspec": {
      "display_name": "Python 3",
      "language": "python",
      "name": "python3"
    }
  }
}