{
  "cells": [
    {
      "cell_type": "markdown",
      "metadata": {},
      "source": [
        "# \n",
        "\n",
        "### **Analysis Summary and Letter Grade**\n",
        "\n",
        "Our analysis shows mature company with stable management, good branding,\n",
        "strong fundamentals and good estimated prospects. We give the letter\n",
        "grade **B** for the company and recommend including its stock in the\n",
        "investment portfolio. Of course, no one single stock should be\n",
        "recommended individually for investment, but portfolio management is out\n",
        "of scope for this document.\n",
        "\n",
        "### **Advice for the Fiduciary**\n",
        "\n",
        "This document provides the fiduciary with basic tools for the\n",
        "quantitative analysis of individual corporations. These tools are indeed\n",
        "**basic** and should only be viewed as a starting point for serious\n",
        "analysis. There are many great ways to learn more about finance and\n",
        "investment. We would recommend to look at the following sources (which\n",
        "we ourselves used to prepare this document) to learn more:\n",
        "\\[@QuantitativeFinancea\\], \\[@wahlenFinancialReportingFinancial2022\\],\n",
        "\\[@ForecastingPrinciplesPractice\\], \\[@DataScience2e\\],\n",
        "\\[@TidyQuantitativeFinancial\\], \\[@Investopedia\\]."
      ],
      "id": "345e6893-f26c-46de-81a1-7c9c60813fbc"
    }
  ],
  "nbformat": 4,
  "nbformat_minor": 5,
  "metadata": {
    "kernelspec": {
      "display_name": "Python 3",
      "language": "python",
      "name": "python3"
    }
  }
}